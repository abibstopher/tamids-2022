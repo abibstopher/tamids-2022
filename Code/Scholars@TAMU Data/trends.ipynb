{
 "cells": [
  {
   "cell_type": "markdown",
   "metadata": {},
   "source": [
    "# Connecting Trends to Scholars@TAMU  \n",
    "**Filename:** trends.ipynb  \n",
    "**Path:** TAMIDS/Code/Scholars@TAMU Data/trends.ipynb  \n",
    "**Created Date:** 05 April 2022, 01:54 \n",
    "\n",
    "I connect the current trends of various online services to Scholars at Texas A&M."
   ]
  },
  {
   "cell_type": "code",
   "execution_count": 23,
   "metadata": {},
   "outputs": [],
   "source": [
    "from IPython.display import Markdown, display, HTML\n",
    "import matplotlib.pyplot as plt\n",
    "import numpy as np\n",
    "import pandas as pd\n",
    "import re\n",
    "import requests\n",
    "import jieba\n",
    "from gensim import corpora, models, similarities\n",
    "from requests.exceptions import HTTPError\n",
    "from bs4 import BeautifulSoup\n",
    "\n",
    "pd.options.display.float_format = '{:,.3f}'.format\n",
    "plt.style.use('seaborn-darkgrid')\n",
    "\n",
    "# General Markdown Formatting Functions\n",
    "\n",
    "def printmd(string, level=1):\n",
    "    header_level = '#'*level + ' '\n",
    "    display(Markdown(header_level + string))"
   ]
  },
  {
   "cell_type": "markdown",
   "metadata": {},
   "source": [
    "## NLP Prep"
   ]
  },
  {
   "cell_type": "code",
   "execution_count": 24,
   "metadata": {},
   "outputs": [],
   "source": [
    "def run_gensim_similarities(text_dict: dict, keyword: str) -> dict:\n",
    "    \"\"\"\n",
    "    texts: dict[pub_api_id: text] - bodies of texts to compare against the keyword\n",
    "    keyword: str\n",
    "\n",
    "    returns: dict[key: similarity_num]\n",
    "    \"\"\"\n",
    "\n",
    "    keys, texts = text_dict.keys(), text_dict.values()\n",
    "    cut_texts = [jieba.lcut(text) for text in texts]\n",
    "\n",
    "    dictionary = corpora.Dictionary(cut_texts)\n",
    "    feature_cnt = len(dictionary.token2id)\n",
    "    corpus = [dictionary.doc2bow(text) for text in cut_texts]\n",
    "    tfidf = models.TfidfModel(corpus)\n",
    "    kw_vector = dictionary.doc2bow(jieba.lcut(keyword))\n",
    "    index = similarities.SparseMatrixSimilarity(tfidf[corpus], num_features = feature_cnt)\n",
    "    sim = index[tfidf[kw_vector]]\n",
    "    return {key: val for key, val in zip(keys, sim)}"
   ]
  },
  {
   "cell_type": "markdown",
   "metadata": {},
   "source": [
    "## Wikipedia Prep"
   ]
  },
  {
   "cell_type": "code",
   "execution_count": 5,
   "metadata": {},
   "outputs": [],
   "source": [
    "def get_api_dict(url: str, kind=None) -> dict:\n",
    "    try:\n",
    "        if kind == 'Wikipedia':\n",
    "            headers = {\n",
    "                'User-Agent': 'My User Agent',\n",
    "                'From': 'abibstopher@tamu.edu'\n",
    "            }\n",
    "            response = requests.get(url, headers=headers)\n",
    "        else:\n",
    "            response = requests.get(url)\n",
    "        response.raise_for_status()\n",
    "        jsonResponse = response.json()\n",
    "    except HTTPError as http_err:\n",
    "        print(f'HTTP error occurred: {http_err}')\n",
    "    except Exception as err:\n",
    "        print(f'Other error occurred: {err}')\n",
    "    else:\n",
    "        return jsonResponse\n",
    "    return {}\n",
    "\n",
    "def get_wikipedia_article(title: str) -> str:\n",
    "    url = 'https://en.wikipedia.org/wiki/' + title\n",
    "    try:\n",
    "        response = requests.get(url)\n",
    "        response.raise_for_status()\n",
    "        soup = BeautifulSoup(response.content, 'html.parser')\n",
    "    except HTTPError as http_err:\n",
    "        print(f'HTTP error occurred: {http_err}')\n",
    "    except Exception as err:\n",
    "        print(f'Other error occurred: {err}')\n",
    "    else:\n",
    "        text = ''\n",
    "        for paragraph in soup.find_all('p'):\n",
    "            text += paragraph.text\n",
    "            \n",
    "        text = re.sub(r'\\[.*?\\]+', '', text)\n",
    "        text = text.replace('\\n', '')\n",
    "        return text\n",
    "\n",
    "def get_top_wiki_views(access='all-access', date='2022/03/all-days') -> str:\n",
    "    base_url = f'https://wikimedia.org/api/rest_v1/metrics/pageviews/top/en.wikipedia/'\n",
    "    url = base_url + access + '/' + date\n",
    "    return get_api_dict(url=url, kind='Wikipedia')"
   ]
  },
  {
   "cell_type": "markdown",
   "metadata": {},
   "source": [
    "## Loading Data"
   ]
  },
  {
   "cell_type": "code",
   "execution_count": 30,
   "metadata": {},
   "outputs": [],
   "source": [
    "people = pd.read_pickle('../../Data/Scholars@TAMU/my_api_calls/people_df.pickle')\n",
    "publications = pd.read_pickle('../../Data/Scholars@TAMU/my_api_calls/publications_df.pickle')"
   ]
  },
  {
   "cell_type": "markdown",
   "metadata": {},
   "source": [
    "### pubs abstract sample"
   ]
  },
  {
   "cell_type": "code",
   "execution_count": 70,
   "metadata": {},
   "outputs": [],
   "source": [
    "pubs_sample = publications.sample(n=1000, random_state=1)\n",
    "\n",
    "# abstract_dict = {key: pubs_sample['abstract'][key] if type(pubs_sample['abstract'][key]) == str else '' for key in pubs_sample.index.to_list()}\n",
    "abstract_dict = {key: publications['abstract'][key] if type(publications['abstract'][key]) == str else '' for key in publications.index.to_list()}"
   ]
  },
  {
   "cell_type": "code",
   "execution_count": 81,
   "metadata": {},
   "outputs": [],
   "source": [
    "people\n",
    "\n",
    "keywords_dict = {key: ' '.join(people['keywords'][key]) for key in people.index.to_list()}"
   ]
  },
  {
   "cell_type": "markdown",
   "metadata": {},
   "source": [
    "## Wikipedia Trends"
   ]
  },
  {
   "cell_type": "code",
   "execution_count": 88,
   "metadata": {},
   "outputs": [],
   "source": [
    "EXCLUDE = ['Main_Page', 'Special:Search']\n",
    "\n",
    "top_views = get_top_wiki_views()\n",
    "\n",
    "top_articles = [article for article in top_views['items'][0]['articles']]\n",
    "\n",
    "# wiki_text = get_wikipedia_article(top_articles[2]['article'])\n",
    "\n",
    "[article for article in top_articles]\n",
    "\n",
    "wiki_texts_100 = {article['article']: [get_wikipedia_article(article['article']), article['rank'], article['views']] for article in top_articles[:100]}"
   ]
  },
  {
   "cell_type": "code",
   "execution_count": 89,
   "metadata": {},
   "outputs": [],
   "source": [
    "similarity_series = {key: pd.Series(run_gensim_similarities(text_dict=keywords_dict, keyword=value[0])) for key, value in wiki_texts_100.items()}"
   ]
  },
  {
   "cell_type": "code",
   "execution_count": 90,
   "metadata": {},
   "outputs": [],
   "source": [
    "df = pd.DataFrame(similarity_series)"
   ]
  },
  {
   "cell_type": "code",
   "execution_count": 98,
   "metadata": {},
   "outputs": [
    {
     "data": {
      "text/plain": [
       "\"2.5 Research Design And Methodologies (aetiology) Bioengineering Graphical Models Kernel Machines Generalized Linear Mixed Models Functional Data Analysis Bugs Spatial Statistics Monte Carlo Methods Hierarchical Bayesian Models Boosting Longitudinal Data Analysis Mixed Models Penalized Splines Asymptotics Middle Aged Energy Intake Female Nutritional Status Potassium Adult Surveys And Questionnaires Reproducibility Of Results Population Surveillance Aged Dietary Proteins Biomarkers Humans Diet Male Measurement Error Models Truncated Normals Gibbs Sampling Bayesian Methods Nonparametric Regression Generalised Estimation Equation Kernel Method Nonparametric Regression Sandwich Estimator Clustered Data Profile Method Partially Linear Model Longitudinal Data Semiparametric Efficiency Bound Semiparametric Efficient Score Inverse Probability Weighting Missing Response Structural Measurement Error Functional Measurement Error Longitudinal Data Measurement Error Generalized Method Of Moments Covariate-adjusted Regression (car) Binning Covariance Structure Varying Coefficient Models Multiplicative Effect Mixed Model Longitudinal Data Vaccine Related Humans Bias Likelihood Functions Calibration Maximum Allowable Concentration Regression Analysis Nonlinear Dynamics Logistic Models Bronchitis Data Interpretation, Statistical Occupational Diseases Environmental Monitoring Linear Models Bioengineering Human Genome Generic Health Relevance Genetics Likelihood Functions Blood Pressure Sodium Chloride Monte Carlo Method Biometry Analysis Of Variance Humans Nuclear Weapons Berkson Error Measurement Error Male Radiation Dosage Instrumental Variables Survivors MIMIC Models Dyslipidemias Female Likelihood Functions Dyslipidemia Humans Atomic Bomb Survivor Data Latent Variables Sir Nonparametric Curve Fitting Treatment Effect Randomization Linear Design Condition Conditioning Dimension Reduction Cell Division Isoenzymes Colonic Neoplasms Pectins Cell Cycle Protein Kinase C Cellulose Protein Kinase C Beta Apoptosis Diet Rats Male Precancerous Conditions Carcinogens Immunohistochemistry Corn Oil Rats, Sprague-Dawley Fatty Acids, Omega-3 Subcellular Fractions Animals Azoxymethane Colon Bounded Influence Estimators Leverage Mallows Estimates Asymptotic Theory Errors In Variables Secondary Phenotypes Two-stage Samples Biased Samples Homoscedastic Regression Secondary Data Semiparametric Inference Humans Regression Analysis United States Cohort Studies Neoplasms Middle Aged Female Models, Statistical Male Bias Data Interpretation, Statistical Mental Health 1117 Public Health And Health Services Semiparametric Methods Measurement Error Errors In Variables Latent Variables Kernel Regression Instrumental Variables Nonparametric Regression Partially Linear Model Local Efficiency Estimating Equations Likelihood Functions Genotype Breast Neoplasms Mutation Phenotype Female Models, Genetic Pedigree Retrospective Studies Penetrance Research Design Humans Genes, Dominant Models, Statistical Alleles Genes, Brca1 Operator Inversion Biased Sampling Wicksell Problem Empirical Radon Transform Errors-in-variables Ill-posed Problem Mixtures Deconvolution Regression Undersmoothing Dioxin Backfitting Median Regression Kernel Estimation Nonparametric Regression Profile Kernel Methods Partially Linear Model Semiparametric Estimation Change Points Humans Genotype Biometry Colorectal Neoplasms Haplotypes Environmental Exposure Likelihood Functions Genetic Predisposition To Disease Case-Control Studies Calcium, Dietary Models, Statistical Logistic Models Risk Factors Algorithms Regression Analysis Adenoma Retrospective Studies Epidemiologic Methods Hypertension Coronary Disease Alcohol Drinking United States Humans Humans Aged Female Middle Aged Heterocyclic Compounds Meat Diet Surveys Reproducibility Of Results Cooking Neoplasms Adult Truth Disclosure Surveys And Questionnaires Amines Male Models, Statistical Self Report Biomarkers Female Food Frequency Questionnaire Time Factors Adult 24-hour Recall Attenuation Factor Aged Aged, 80 And Over Recovery Biomarker Bias Mental Recall Calibration Equations Energy Intake Male Diet Records Middle Aged Humans Single-cell Gel Electrophoresis Flare Assay Corn Oil Hierarchical Models Fish Oil Comet Assay Colon Carcinogenesis IMAGE ANALYSIS Bioengineering Gastrointestinal Tract Microbiota Software Mice Animals Humans Smoothing Parameter Choice Centroid Method Quadratic Discrimination Kernel Smoothing Training Data Discrimination Replicate Measures Simulation Extrapolation Generalized Linear Models Instrumental Variables Measurement Error Cox Proportional Hazards Model High&#8208 Screening Analysis Dimensional Covariates Large Size Case&#8211 Control Data Analysis Censored Data Oral And Gastrointestinal Obesity Cardiovascular Nutrition Bioengineering Prevention Cancer Behavioral And Social Science Human Genome 2.1 Biological And Endogenous Factors Genetics Biotechnology Human Genome Colo-rectal Cancer Digestive Diseases Genetics Cancer Latent Factor Analyzers Multivariate Density Deconvolution Mixture Models B-splines Regularization Shrinkage Measurement Errors Conditional Heteroscedasticity Colonic Neoplasms Rats, Sprague-Dawley Male Inflammation Quercetin Gene Expression Regulation Animals Cell Proliferation Diet Cell Cycle Rats Apoptosis Male Testosterone Computer Simulation Case-Control Studies Biometry Monte Carlo Method Dihydrotestosterone Bias Risk Factors Odds Ratio Humans Prostatic Neoplasms Logistic Models Stroke Oral And Gastrointestinal Obesity Metabolic And Endocrine Cardiovascular Nutrition Prevention Aging Cancer Clinical Research 8.4 Research Design And Methodologies (health Services) Bioengineering Digestive Diseases Nutrition Prevention Cancer Mental Health Cholesterol Regression Analysis Statistics As Topic Risk Middle Aged Adult Blood Pressure Humans Male Coronary Disease Prognosis Epidemiology Models, Biological Smoking Intestinal Mucosa Non-NASA Center Butyrates Colon Apoptosis Fatty Acids Nasa Discipline Radiation Health Phospholipids Fish Oils Lipid Peroxidation Mitochondria Rats Caspases Enzyme Activation Membrane Lipids Reactive Oxygen Species Rats, Sprague-Dawley Caspase 3 Animals Male Dietary Fats, Unsaturated Esters Cardiolipins Oxidative Stress Corn Oil Cytochrome C Group Intracellular Membranes Mice Animals Oxidants Computational Biology Mice, Inbred C57BL Benzo(a)pyrene Cluster Analysis Predictive Value Of Tests Oxidative Stress Algorithms Arteriosclerosis Genomics Muscle, Smooth, Vascular Aorta, Thoracic Gene Expression Profiling Cells, Cultured Oligonucleotide Array Sequence Analysis Local Quasi-likelihood Estimator Local Linear Regression Semiparametric Estimation Variance Components Smoothing Epidemiologic Methods Multicenter Studies As Topic Texas Logistic Models Colic Horses Case-Control Studies Animals Nutrition Surveys Nutrition Assessment Immunoassay Evaluation Studies As Topic Oligonucleotide Array Sequence Analysis Models, Statistical Analysis Of Variance Humans Semiparametric Regression Setophaga Chrysoparia Habitat Conservation Golden-cheeked Warbler Bayesian Inference Occupancy Mutation Humans Fragile X Syndrome Computer Simulation Proportional Hazards Models Fragile X Mental Retardation Protein Risk Factors Models, Statistical Data Interpretation, Statistical Heterozygote Models, Genetic Genetic Predisposition To Disease Biometry Statistics As Topic Risk Assessment Polymorphism, Single Nucleotide Female Genetics Prevention Cancer Simulation-extrapolation Orthogonal Series Density Estimation Nonparametric Regression Measurement Error Aged Diet Surveys Reproducibility Of Results Bias Nitrogen Dietary Proteins Linear Models Nutritional Status Humans Middle Aged Adult Male Female Europe Diet Nonlinear Errors-in-variables Model Sieve Quasi Likelihood Data Combination Nonclassical Measurement Error Misspecified Parametric Latent Model Nonparametric Identification Measurement Error Pediatric Climate-related Exposures And Conditions Stroke Oral And Gastrointestinal Liver Disease Obesity Diabetes Metabolic And Endocrine Digestive Diseases Nutrition Aging 65c60, 82dxx Math.st Stat.th Nucl-th Multivariate Analysis Bias Surveys And Questionnaires Dietary Proteins Biomarkers Energy Intake Humans Nutritional Status Diet Records Nutrition Surveys Epidemiologic Methods Linear Models Isomorphic Transformation Nonstationary Time Series CHIRP Functional Data Analysis Variable Overlap Spectrogram Functional Mixed Model Software Bat Syllable Bayesian Analysis Radioactive Hazard Release Thyroid Diseases Regression Calibration Radiation Dosage Computer Simulation Berkson Measurement Error Simex Estimator Risk Assessment Uncertainties In Thyroid Dose Humans Dose-Response Relationship, Radiation Classical Measurement Error Chernobyl Nuclear Accident Estimation Of Radiation Risk Full Maximum Likelihood Estimating Procedure Chornobyl Accident Sensitivity And Specificity Models, Statistical Sample Size Regression Calibration Diet Bivariate Modeling Data Interpretation, Statistical Measurement Error Nutrition Assessment Humans Nutritional Epidemiology Episodically Consumed Dietary Components Energy Intake Reproducibility Of Results Algorithms United States Semicontinuous Variables Computer Simulation Models, Statistical Monte Carlo Method Calcium, Dietary Adult Computer Simulation Male Algorithms Nutrition Assessment Sex Factors Statistical Distributions Likelihood Functions Interviews As Topic Middle Aged Eating Humans Iron, Dietary Vitamin A Age Factors Surveys And Questionnaires Female Young Adult National Cancer Institute (u.s.) United States Aged Diet Surveys Bodymedia Fit Device Sleep Efficiency Mixed-effects Model Continuous Proportions Physical Activity Functional Data Dietary Fats Energy Intake Bias Diet Records Women's Health Linear Models Female Reproducibility Of Results Surveys And Questionnaires Diet Surveys Calibration Cost-benefit Analysis Humans Cardiovascular Prevention Basic Behavioral And Social Science Behavioral And Social Science Proteins Statistics, Nonparametric Models, Statistical Tandem Mass Spectrometry Chromatography, Liquid Likelihood Functions Computer Simulation Humans Software Diabetes Mellitus Proteomics Mass Spectrometry Cardiovascular Prevention Clinical Research Behavioral And Social Science Diet Surveys Diet Male Nutritional Status Nutrition Surveys Energy Intake Humans Nutrition Policy Female Nutrition Assessment Health St0049 Murphy-topel Generalized Linear Models Bootstrap Instrumental Variables Measurement Error Dietary Fiber Health Educators Diet Diet Records Folic Acid Nutritional Status Nutritional Sciences Feeding Behavior Middle Aged Female Time Factors Adult Reproducibility Of Results Humans Risk Factors Ukraine Likelihood Functions Chernobyl Nuclear Accident Incidence Child, Preschool Male Uncertainty Infant, Newborn Adolescent Thyroid Gland Neoplasms, Radiation-Induced Odds Ratio Child Iodine Radioisotopes Dose-Response Relationship, Radiation Thyroid Neoplasms Radiometry Environmental Exposure Female Monte Carlo Method Infant Humans Cohort Studies Diet Records Health Services For The Aged Male Middle Aged Models, Theoretical Surveys And Questionnaires Reproducibility Of Results United States Aged Humans Diet Female Nutritional Physiological Phenomena Colo-rectal Cancer Autoimmune Disease Digestive Diseases Nutrition Cancer Inflammatory Bowel Disease Varying-coefficient Model Generalized Linear Regression Heteroscedasticity Semiparametric Efficiency Nonparametric Regression Partially Linear Model Additive Models Hierarchical Bayesian Model Regression Splines Bayesian Inference Confidence Intervals Nutrition Prevention Cancer Cancer Breast Cancer Human Genome 2.1 Biological And Endogenous Factors Genetics Clinical Research Cancer Colo-rectal Cancer Digestive Diseases Nutrition Injury (total) Accidents/adverse Effects Cancer Plug-in Method Uncertain Sample Least Squares Cross-validation Estimating Equation Single-index Model Identifiability Modeling Ozone Levels Partially Linear Single Index Model Asymptotic Theory Kernel Regression Semiparametric Efficiency Variance Function Estimation Maximum Likelihood Logistic Regression Measurement Errors Models Bandwidth Selection Kernel Regression Density Estimation Nonparametric Regression Probit Regression Generalized Linear Models Errors In Variables 2.1 Biological And Endogenous Factors Genetics Radiation Epidemiology Simex Corrected Scores Dose-response Risk Assessment Humans Dose-Response Relationship, Radiation Chernobyl Nuclear Accident Berkson Measurement Error Models, Theoretical Radiation Exposure Regression Calibration Classical Measurement Error Chornobyl Computer Simulation Genetics Cancer Spatially Correlated Curves Group Mean Testing Block Bootstrap Significance Tests Hierarchical Modeling Functional Data Hierarchical Model Model Averaging Wavelet Functional Data Analysis Bayesian Method Nonparametric Regression Carcinogenesis Patient Safety Clinical Trials And Supportive Activities Prevention Clinical Research Cell Cycle Oligonucleotide Array Sequence Analysis Animals Dietary Fats, Unsaturated Cell Proliferation Rats RNA, Messenger Colonic Neoplasms Gene Expression Profiling Feces Dietary Sucrose Enterocytes Fish Oils Diet Male Azoxymethane Rats, Sprague-Dawley Pectins Biometry Colonic Neoplasms Models, Statistical Treatment Outcome Humans Oxygen Consumption Rats, Sprague-Dawley Diet, High-Fat Rats, Wistar Body Weight Energy Metabolism Female Animals Obesity Male Bias Meta-Analysis As Topic Humans Cerebrovascular Disorders Blood Pressure Coronary Disease Regression Analysis Data Interpretation, Statistical Risk Factors Logistic Models Confidence Region Maximum Empirical Likelihood Estimator Empirical Likelihood Efficient Estimation Longitudinal Data Digestive Diseases Cancer Bioengineering Robust Estimates Corrections For Attenuation Differential Measurement Error Missing Data Asymptotics Estimating Equations Measurement Error 0104 Statistics Sandwich Estimation Local Polynomial Regression Estimating Equation Regression Spline Simex Measurement Error Dirichlet Process Mixture Models Measurement Errors Numerical Analysis, Computer-assisted Regression Analysis B-splines Computer Simulation Humans Variance Functions Sensitivity And Specificity Models, Statistical Reproducibility Of Results Effect Modifier, Epidemiologic Data Interpretation, Statistical Regression With Errors In Covariates Algorithms Conditional Heteroscedasticity Bayes Theorem Health Services Generic Health Relevance Clinical Research Dietary Fats Risk Breast Neoplasms Female Case-Control Studies Aged Logistic Models Humans Confounding Factors, Epidemiologic Diet Records Surveys And Questionnaires United States Middle Aged Bias Diet Surveys Energy Intake Eating Logistic Models Survival Analysis Humans Sample Size Calibration Causality Surveys And Questionnaires Epidemiologic Research Design Data Interpretation, Statistical Self Report Corrected Penalized Quasi-likelihood Asymptotic Bias Random Effects Variance Components Measurement Error Pediatric Obesity Computer Simulation Bias Functional Data Regression Analysis Fitness Trackers Accelerometers Energy Expenditure Generalized Method Of Moments Measurement Error Energy Metabolism Humans Leverage Small Sample Bias Expansions Mallows Estimators Consistent Estimation Binary Regression Misclassification Asymptotics Outliers Publishing Periodicals As Topic Peer Review Biometry Time Factors Fatty Acids, Omega-6 Rats Azoxymethane Disease Progression Apoptosis Fish Oils Triglycerides Weight Gain Down-Regulation Gene Expression Profiling Oligonucleotide Array Sequence Analysis Fatty Acids, Unsaturated Animals Carcinogens Male DNA Adducts Up-Regulation Gene Expression Regulation, Neoplastic Polymerase Chain Reaction Cell Differentiation Colonic Neoplasms Anticarcinogenic Agents Eating Fatty Acids, Omega-3 Rats, Sprague-Dawley Genetic Testing OVARIAN CANCER Rare Diseases Genetics Prevention Cancer Genetic Markers Adenoma Calcium Colorectal Neoplasms Linkage Disequilibrium Environmental Exposure Case-Control Studies Genetic Predisposition To Disease Polymorphism, Single Nucleotide Genotype Humans Risk Factors Algorithms Haplotypes Mixed-effects Models Last Observation Carried Forward Missing Data Maximum Likelihood Colo-rectal Cancer Digestive Diseases Complementary And Integrative Health Nutrition Prevention Cancer Digestive Diseases Complementary And Integrative Health Nutrition Cancer Humans Case-Control Studies Dietary Fats Surveys And Questionnaires Prospective Studies Data Interpretation, Statistical Regression Analysis Risk Factors Biometry Breast Neoplasms Diet Records Risk Assessment Mixed-effects Models Missing Data Repeated Measures Longitudinal Data Depression Shiny Multiple Comparisons Online Software Statistical Analysis Computation Biology R Reference Standards Biomarkers Regression Analysis Bias Nutrition Surveys Nitrogen Epidemiologic Methods Feeding Behavior Surveys And Questionnaires Humans Minimum Volume Ellipsoid Robust Inference Standard Error Breakdown Least Median Of Squares Asymmetry Heteroscedasticity Human Genome Genetics Cluster Analysis Heart Diseases Biometry Linear Models Models, Statistical Analysis Of Variance Humans Nutrition Prevention Cancer Ratios Of Location Parameters Reproducibility Of Results Odds Ratio Male Incidence Dimer Risk Assessment Data Interpretation, Statistical Computer Simulation Confidence Interval Diet Sex Distribution Algorithms Confidence Intervals Direct Integral Method For Ratios Fieller's Interval Hayya's Method Models, Statistical Humans Sensitivity And Specificity Colorectal Neoplasms Female Bayesian Information Criterion Akaike Information Criterion Principal Components Functional Data Analysis Kernel Smoothing Environmental Monitoring Radiation Dosage Risk Assessment Data Interpretation, Statistical Nuclear Reactors Sensitivity And Specificity Reproducibility Of Results Radiation Injuries Humans Washington Incidence Thyroid Diseases Environmental Exposure Cohort Studies Iodine Radioisotopes Risk Factors Epidemiological Monitoring Biometry Humans Principal Component Analysis Diet Computer Simulation Statistics, Nonparametric Butyrates Analysis Of Variance Software Algorithms Models, Statistical Colonic Neoplasms Animals Likelihood Functions Cyclin-Dependent Kinase Inhibitor P27 Bioengineering Prevention Colo-rectal Cancer Digestive Diseases Genetics Cancer 2.5 Research Design And Methodologies (aetiology) Bioengineering Clinical Research Human Genome Rare Diseases Genetics Bioengineering Cancer Research Design Data Interpretation, Statistical Humans Female Networking And Information Technology R&d Bioengineering Prevention Basic Behavioral And Social Science Behavioral And Social Science Vitamins Primary Prevention Minerals Chronic Disease United States Dietary Supplements Humans Adult Polynomial Splines Bootstrap Smoothing Undersmoothing Inference For High-dimensional Data Curse Of Dimensionality Gene-environment Interaction Penalized Likelihood Generalized Additive Partially Linear Models Two-step Estimation Adaptive Group Lasso Oracle Property Surveys And Questionnaires Linear Models Humans Body Mass Index Eating Risk Assessment Bias Models, Statistical Female Nutrition Surveys Dietary Fats Regression Analysis Statistics As Topic Bias Diet Records Epidemiologic Methods Female Humans Risk Male Information Criterion Quadratic Form Large Deviation Pseudolikelihood Model Misspecification Artifacts National Institutes Of Health (U.S.) Nutrition Disorders Bayes Theorem Nutritional Status Diet United States Computer Simulation Humans In Situ Nick-End Labeling Animals Colonic Neoplasms Fermentation Pectins Rats Dietary Fats, Unsaturated Butyrates Rats, Sprague-Dawley Cyclin-Dependent Kinase Inhibitor P27 Cell Differentiation Immunohistochemistry Corn Oil Ki-67 Antigen Fish Oils Azoxymethane DNA Damage Humans Apoptosis Cell Proliferation Male Colon St0048 White's Estimator Robust Variance Sandwich Estimate Of Variance Generalized Linear Models Instrumental Variables Measurement Error Colon Fish Oils Alprostadil Intestinal Mucosa Pectins Male Neoplasms, Radiation-Induced Dinoprostone PPAR Delta Colonic Neoplasms Apoptosis Dietary Fats Rats Rats, Sprague-Dawley Animals Haplotypes Algorithms Risk Factors Ovarian Neoplasms Research Design Models, Genetic Logistic Models Case-Control Studies Humans Genetic Predisposition To Disease Alleles Likelihood Functions Environmental Exposure Female Epidemiologic Methods Genotype Shiny Multiple Comparisons Two-way Anova Online Software Statistical Analysis Biology Agriculture R Antidepressive Agents Patient Dropouts Longitudinal Studies Data Interpretation, Statistical Clinical Trials As Topic Depression Humans Artifacts Radioactive Fallout Risk Assessment Humans Prevalence Biometry Female Monte Carlo Method Thyroid Diseases Radiation Injuries Risk Factors Data Interpretation, Statistical Nevada Male Basis Function Expansion Parameter Cascading Asymptotic Theory Differential Equations Bayesian Method Measurement Error Energy Intake Computer Simulation Health Statistical Humans Diet Models Food Frequency Questionnaire Bias (Epidemiology) Models, Statistical Underreporting Attenuation Down Syndrome Metabolic And Endocrine Clinical Research Oral And Gastrointestinal Intellectual And Developmental Disabilities (idd) Stroke Nutrition Cancer Cardiovascular Brain Disorders Nitrogen Statistics As Topic Adult Female Mental Recall Deuterium Energy Intake Middle Aged Surveys And Questionnaires Patient Compliance Oxygen Isotopes Humans Male Dietary Proteins Aged Cohort Studies Diet Surveys Humans Female Models, Statistical HIV Infections Population Surveillance Incidence Male United States Acquired Immunodeficiency Syndrome Prevalence Bandwidth Selector Replicated Measurements Local Polynomial Inverse Problems Nonparametric Regression Deconvolution Measurement Errors Alcoholism, Alcohol Use And Health Cardiovascular Substance Abuse Misclassification Bayes Error Monte Carlo Linear Discriminant Analysis Cell Nucleus Ploidies Cell Count Polyploidy Animals Male DNA Rats Cell Division Mitosis Myocardial Infarction Myocardium Heart Atria Flow Cytometry Coronary Vessels Locally Adaptive Smoothing Parameters Variance Models Additive Models Mixed Models Bayesian Methods Markov Chain Monte Carlo Bias Reduction Local Linear Regression Generalized Linear Models Bootstrap Estimating Equations Nonparametric Regression Missing Not At Random Estimating Equation Semiparametric Estimation Missing Data Confidence Region Empirical Likelihood Nonparametric Regression Measurement Error Comparative Effectiveness Research Multiple Sclerosis Neurodegenerative Neurosciences Brain Disorders Metabolic And Endocrine Nutrition Bioengineering Diet Surveys Self Report Diet Biomarkers Models, Statistical Surveys And Questionnaires Humans Quasi-likelihood Estimation Measurement Error Models Kernel Regression Generalized Linear Model Likelihood Functions Biomarkers Models, Statistical Computer Simulation Humans Reverse Transcriptase Polymerase Chain Reaction Models, Genetic Sensitivity And Specificity Gene Expression Models, Statistical Rats Adipose Tissue Animals Thin-plate Splines Regression Splines Variance Functions Spatially Adaptive Penalty Multivariate Smoothing Heteroscedasticity Mcmc Continuous Proportions Ordinal Categorical Data Zero-or-one-inflated Data Penalized Splines Principal Components Longitudinal Data Functional Data Genotype Pedigree Humans Penetrance Breast Neoplasms Likelihood Functions Genes, Brca1 Bias Research Design Mutation Cohort Studies Risk Factors Genes, Dominant Survival Analysis Female Regression Analysis Case-Control Studies Cancer Neurodegenerative 2.2 Factors Relating To The Physical Environment Infection Infectious Diseases Inflammatory And Immune System 2.1 Biological And Endogenous Factors Genetics Neurosciences Biotechnology Colo-rectal Cancer Digestive Diseases Nutrition Genetics Prevention Cancer Vitamins Primary Prevention Evidence-Based Medicine Minerals Chronic Disease Risk Factors United States Dietary Supplements Humans Markov Chains Escherichia Coli O157 Cattle Diseases Bacterial Shedding Animals Time Factors Cattle Confidence Intervals Proportional Hazards Models Escherichia Coli Infections Feces Models, Biological Cancer Structural Modeling Splines Simulation Extrapolation Identifiability Bayesian Methods Measurement Error Nutrition Prevention Cancer Haplotypes Arylamine N-Acetyltransferase Environmental Exposure Adenoma Humans Computer Simulation Logistic Models Colorectal Neoplasms Case-Control Studies Polymorphism, Single Nucleotide Retrospective Studies Models, Genetic Semiparametric Efficient Score Kernel Methods Single-index Models Profile Method Nutrition Semiparametric Information Bound Nonparametric Regression Missing Data Generalized Estimating Equations Partially Linear Model Measurement Error Generic Health Relevance Colonic Neoplasms Humans Colon Bayes Theorem Intestinal Mucosa Diet DNA Adducts Carcinogens Aged Models, Biological Epidemiologic Methods Likelihood Functions Probability Biometry Models, Statistical Regression Analysis Case-Control Studies Humans Profile-likelihood Generalized Regression Estimator Misspecified Model Case-control Study Empirical Likelihood Generalized Linear Models High-Throughput Nucleotide Sequencing Models, Statistical Humans RNA, Messenger Poisson Distribution Carcinoma, Squamous Cell MicroRNAs Canonical Correlation Analysis Correlation Lung Neoplasms RNA-sequencing Poisson Regression Cancer Genetics Cancer Neurodegenerative Generalized Estimating Equations Breast Cancer Goodness-of-fit Test Bias Biomarkers Local Estimating Equations Correlation Reparameterization Asymptotic Variance Attenuation Validation Study Nonparametric Regression Measurement Error Varying-coefficient Models Generic Health Relevance Models, Theoretical Monte Carlo Method Gene Expression Regulation Transcription, Genetic Bayes Theorem Databases, Protein Algorithms Models, Statistical Cell Cycle Kinetics Yeasts Protein Binding Markov Chains DNA Male Antioxidants Non-NASA Center Intestinal Mucosa Reactive Oxygen Species Catalase Colon Pectins NASA Discipline Regulatory Physiology Rats Superoxide Dismutase Rats, Sprague-Dawley DNA Damage Fish Oils Diet Animals Apoptosis Sample Size Oligonucleotide Array Sequence Analysis Reproducibility Of Results Cluster Analysis Artificial Intelligence Breast Neoplasms Sequence Analysis, DNA Humans Algorithms Sensitivity And Specificity Models, Statistical Neoplasm Proteins Pattern Recognition, Automated Biomedical Research Data Interpretation, Statistical Algorithms Models, Theoretical Humans Measurement Error Model Bias Energy Metabolism Female Adult Male Exercise Nutrition Surveys Motor Activity Models, Statistical Self-Assessment Middle Aged Aged Surveys And Questionnaires Berkson Model Epidemiologic Measurements Humans Bioengineering Fatty Acids, Omega-3 Receptor-CD3 Complex, Antigen, T-Cell Safflower Oil T-Lymphocyte Subsets Fish Oils Coculture Techniques Receptors, Antigen, T-Cell, Alpha-beta Cd28 Antigens Specific Pathogen-Free Organisms Dietary Fats Cell Division Mice Female Mice, Inbred C57BL Concanavalin A Lymphocyte Activation Docosahexaenoic Acids Antigen-Presenting Cells Animals Immunosuppressive Agents Emerging Infectious Diseases Receptor, Fibroblast Growth Factor, Type 2 Genetic Markers Data Interpretation, Statistical Breast Neoplasms Polymorphism, Single Nucleotide Phenotype Computer Simulation Humans Female 8.4 Research Design And Methodologies (health Services) Clinical Trials And Supportive Activities Clinical Research Animals Intestinal Mucosa Analysis Of Variance Anticarcinogenic Agents DNA Damage DNA Adducts Male Statistics, Nonparametric Colonic Neoplasms Guanine Fish Oils Trna Methyltransferases Apoptosis Likelihood Functions DNA Repair Rats, Sprague-Dawley Rats Bioengineering Orthogonal Series Berkson Errors Radiation Dosimetry Kernel Method Smoothing Parameter Errors In Variables Deconvolution Measurement Error Immunoenzyme Techniques Anemia, Sickle Cell Cross-Sectional Studies Child, Preschool Child Models, Biological Prevalence Herpesviridae Infections Models, Statistical Herpesvirus 8, Human Humans Infant Adolescent Uganda Drugs, Investigational Longitudinal Studies Clinical Trials As Topic Brain Disorders Biotechnology Brain Cancer Genetics 2.5 Research Design And Methodologies (aetiology) 8.4 Research Design And Methodologies (health Services) Human Genome Generic Health Relevance Cancer Rare Diseases Terminology As Topic Nutritional Sciences Biomedical Technology Computational Biology Research Design Data Interpretation, Statistical Systems Biology Animals Humans Plant Development Likelihood Functions Genes, Reporter Biometry Lycopersicon Esculentum Hormones Nitrogen Oxides Oligonucleotide Array Sequence Analysis Arginine Reverse Transcriptase Polymerase Chain Reaction Diabetes Mellitus, Type 2 Obesity Blood Glucose Abdomen DNA Primers Rats Rats, Zucker Lipids Male Animals Adipose Tissue Dietary Supplements Bioengineering Birthweight Model Uncertainty Humans Air Pollution Kriging Spatial Model Birth Weight Spatial Analysis Environmental Epidemiology Environmental Exposure Regression Analysis Child Monte Carlo Method Humans Computer Simulation Markov Chains Dose-Response Relationship, Radiation Neoplasms, Radiation-Induced Regression Analysis Thyroid Neoplasms Radioactive Fallout Models, Statistical Nevada Bayes Theorem Prospective Studies United States Aged Biometry Calibration Reproducibility Of Results Humans Diet Records Surveys And Questionnaires Feeding Behavior Nutritional Physiological Phenomena Neoplasms Epidemiologic Methods Models, Statistical Likelihood Functions Research Design Equine Epidemiology Matching Conditional Inference Dirichlet Process Case-Control Studies Endometrial Cancer Low Birth Weight Study Missing Data Retrospective Studies Exponential Family Metropolis-hastings Parsimony Frequentist Model Averaging Jackknife Model Averaging Mallows Model Averaging Asymptotic Optimality Signal Processing, Computer-Assisted Reproducibility Of Results Oligonucleotide Array Sequence Analysis Computer Simulation Models, Genetic Multivariate Analysis Algorithms Stochastic Processes Gene Expression Profiling Sensitivity And Specificity Models, Statistical Microscopy, Fluorescence Image Interpretation, Computer-Assisted Lead Poisoning, Nervous System, Childhood Models, Statistical Models, Biological Environmental Pollutants United States Child Lead United States Environmental Protection Agency Humans Housing Biometry Environmental Exposure Databases, Factual Calibration Gene Frequency Polymorphism, Single Nucleotide Genetic Variation Humans Apoptosis DNA Methylation Proto-Oncogene Proteins Antimetabolites, Antineoplastic Receptors, Tumor Necrosis Factor, Member 25 Bcl-2-like Protein 11 Linoleic Acid Dna Modification Methylases Epigenetics Decitabine Transcription, Genetic Docosahexaenoic Acids Cell Line, Tumor Death-associated Protein Kinases Docosahexaenoic Acid Butyrates Colonic Neoplasms Promoter Regions, Genetic Apoptosis Regulatory Proteins Lymphotoxin Beta Receptor Membrane Proteins Histones Acetylation HCT116 Cells Butyrate Humans Azacitidine Generic Health Relevance Robust Estimation Mallows Estimates Logistic Regression Case-Control Studies Prospective Studies Rats, Sprague-Dawley DNA Damage Reactive Oxygen Species Colonic Neoplasms Non-NASA Center Disease Susceptibility Rats Intestine, Small Animals Colon Male Nasa Discipline Radiation Health Oxidation-Reduction Catalase Autoimmune Disease Digestive Diseases Nutrition Inflammatory Bowel Disease Hierarchical Modeling Longitudinal Studies Logistic Models Data Interpretation, Statistical Principal Component Estimation Models, Statistical Cross-dependent Functional Data Multilevel Functional Data Functional Data Analysis Binary Longitudinal Data Mixed Models Covariogram Estimation Computer Simulation Human Genome Genetics Generic Health Relevance Nutritional Epidemiology Energy Intake Mixed Effects Models Latent Variables Bayesian Approach Markov Chains Fishes Models, Statistical Animals Zero-inflated Data Monte Carlo Method Edible Grain Humans Bayes Theorem Diet Measurement Error Genes Sensitivity And Specificity Data Interpretation, Statistical Cluster Analysis Algorithms Oligonucleotide Array Sequence Analysis Gene Expression Profiling Pattern Recognition, Automated Models, Statistical Models, Genetic Computer Simulation Reproducibility Of Results Single-index Models Local Estimating Equation Interactions Principal Components Functional Data Analysis Latent Variables Generalized Linear Models Robust Covariance Estimator Sandwich Estimator Coverage Probability Quasi-likelihood Generalized Estimating Equation Heteroscedasticity Marginal Model Generalized Linear Model Linear Regression Stroke Oral And Gastrointestinal Metabolic And Endocrine Cardiovascular Nutrition Self Disclosure United States Male Aged Body Water Mathematics Energy Intake Adult Body Mass Index Dietary Proteins Bias Female Biomarkers Population Surveillance Deuterium Middle Aged Mental Recall Humans Nutrition Surveys Diet Colo-rectal Cancer Digestive Diseases Nutrition Cancer Coronary Disease Models, Cardiovascular Regression Analysis Prospective Studies Humans Heteroscedasticity Large P Two-sample Copy Number Variation Colo-rectal Cancer Digestive Diseases 2.1 Biological And Endogenous Factors Complementary And Integrative Health Nutrition Genetics Cancer Cost-benefit Analysis Medical History Taking Pharyngeal Neoplasms Quality Assurance, Health Care Mouth Neoplasms Bias Odds Ratio Surveys And Questionnaires Likelihood Functions Humans Case-Control Studies Risk Factors Smoking Missing Data Shrinkage Estimation Regression Quantile Quantile Regression Multiple Imputation Cardiovascular Nutrition Prevention Clinical Research Nutrition Tobacco Smoke And Health Genetics 8.4 Research Design And Methodologies (health Services) Prevention Bioengineering 2.5 Research Design And Methodologies (aetiology) Generic Health Relevance Tobacco Human Genome Colon Oxidative Stress Anticarcinogenic Agents Animals Fish Oils Male Rats, Sprague-Dawley Dietary Fats, Unsaturated Dna Glycosylases Colonic Neoplasms Apoptosis Weight Gain Diet Eating DNA Damage Drinking Rats Gene Expression Regulation DNA Adducts Genetics 6.4 Surgery Cancer 5.1 Pharmaceuticals Clinical Research Behavioral And Social Science Colo-rectal Cancer Digestive Diseases Cancer Colo-rectal Cancer Digestive Diseases Cancer HIV-1 Clinical Trials As Topic Logistic Models Bias Linear Models Acquired Immunodeficiency Syndrome Time Factors Data Interpretation, Statistical CD4 Lymphocyte Count Antiviral Agents Viral Load Models, Biological Humans Score Tests Measurement Error Models Errors-in-variables Density Estimation Generalized Linear Models Maximum Likelihood Deconvolution Empirical Bayes Local Polynomial Estimators Unimodality Bootstrap Methods Monotone Function Convexity Errors In Variables Kernel Methods Hypothesis Testing Likelihood Functions Research Design Clinical Trials As Topic Models, Statistical Analysis Of Variance Humans Rare Diseases Pediatric Generic Health Relevance Analysis Of Variance Finland Confidence Intervals Epidemiologic Methods Male Vitamin E Feeding Behavior Chi-Square Distribution Diet Records Middle Aged Models, Statistical Surveys And Questionnaires Humans Biometry Monte Carlo Method Biometry Colic Horses Horse Diseases Regression Analysis Case-Control Studies Computer Simulation Animals Food Record True Intake Estimates Food-frequency Questionnaire Calibration Clinical Trials And Supportive Activities Clinical Research Genetics Patient Safety Infection Bronchitis Dust Diet Records Biometry Linear Models Sensitivity And Specificity Models, Statistical Humans Female Software Bias Middle Aged Reproducibility Of Results Pilot Projects Aged Feeding Behavior Humans Surveys And Questionnaires Diet Surveys Regression Analysis Bayes Theorem Animals Models, Biological Computer Simulation Algorithms Statistics As Topic Rats Biometry Models, Statistical Data Interpretation, Statistical Colonic Neoplasms Regression Analysis Humans Fishes Biometry Health Status Mercury Animals Eating Health Surveys Female Diet Records Surveys And Questionnaires Nutrition Surveys Models, Statistical Errors In Variables Estimating Equations Maximum Likelihood Method Of Moments Linear Regression Measurement Error Nutrition Antibody Diversity Immunoglobulin Light Chains Amino Acid Sequence Isoelectric Focusing Immunoglobulin Variable Region Mice, Inbred Strains Animals Hybrid Cells Methods Mice Bioengineering Prevention Food-frequency Questionnaires Calibration Studies Food Diaries 24-h Recalls Food Record Study Design Sample Size Measurement Error Mice Regression Analysis Humans Random Allocation Bayes Theorem Rats Toxicology Animals Biometry Tetrachloroethylene Computer Simulation Animals Models, Statistical Feces Dietary Fats Q-values Research Design Body Weight Microbial Data Dietary Proteins Weighted Lasso Mice Variable Selection False Discovery Rate Data Interpretation, Statistical Zero-inflated Data Nutritional Surveillance Dietary Assessment Mixed Models Latent Variables Nutritional Epidemiology Bayesian Methods Measurement Error Orthogonal Regression Structural Relations Nonparametric Likelihood Errors-in-variables Semiparametric Models Partially Linear Model Measurement Error Nasa Discipline Radiation Health Rats DNA DNA Damage Dextran Sulfate 8-hydroxy-2'-deoxyguanosine Intestinal Neoplasms Animals Male Oxidative Stress DNA Adducts Intestine, Small Disease Susceptibility Non-NASA Center Deoxyguanosine Apoptosis Intestine, Large Cell Proliferation Ridge Parameter Parametric Rates Errors-in-variables Smoothing Contamination Bandwidth Deconvolution Regression Colo-rectal Cancer Digestive Diseases Nutrition Genetics Prevention Cancer Population Stratification Case-control Study Retrospective Study Genetic Epidemiology Semiparametric Method Gene-environment Interaction Logistic Regression Profile Likelihood Genome-Wide Association Study Colo-rectal Cancer Digestive Diseases Nutrition Genetics Prevention Cancer Projection Pursuit Greenwood Statistic Sliced Inverse Regression Generalized Linear Models Dimension Reduction Regression Prospective Sampling Saddlepoint Approximation Taylor Expansion Case-control Sampling Choice-based Sampling Logistic Regression Infant Incidence Body Burden Thyroid Gland Neoplasms, Radiation-Induced Models, Statistical Humans Sensitivity And Specificity Tinea Capitis Infant, Newborn Models, Biological Thyroid Neoplasms Radiometry Child, Preschool Female Reproducibility Of Results Adolescent Male Data Interpretation, Statistical Radiotherapy Dosage Radiotherapy Dose-Response Relationship, Radiation Risk Assessment Child Single Index Spline Approximation Omnibus Score Function Hybrid Breast Neoplasms Diet Interviews As Topic Adult United States Carbohydrates Surveys And Questionnaires Risk Factors Logistic Models Chi-Square Distribution Female Case-Control Studies Humans Estradiol Data Interpretation, Statistical Female Breast Neoplasms Humans Reproducibility Of Results Logistic Models Multivariate Analysis Risk Case-Control Studies Confounding Factors, Epidemiologic Kernel Regression Prewhitening Linear Process Time Series National Institutes Of Health (U.S.) United States Female Humans Surveys And Questionnaires Eating Reproducibility Of Results Middle Aged Epidemiologic Studies Adult Importance Sampling Wang-landau Algorithm Spatial Autologistic Model Stochastic Approximation Model Selection Markov Chain Monte Carlo Diet Surveys Male Humans United States Prospective Studies Aged Female Mental Recall Health Services For The Aged Reproducibility Of Results Middle Aged Surveys And Questionnaires Diet Energy Intake Cohort Studies Phantoms, Imaging Tinea Capitis Risk Assessment Dose-Response Relationship, Radiation Israel Likelihood Functions Thyroid Neoplasms Radiotherapy Radiometry Calibration Reproducibility Of Results Humans Risk Age Factors Child Humans Cohort Studies Brca2 Protein Mutation Breast Neoplasms Transcription Factors Probability Female Genes, Brca1 Alleles Neoplasm Proteins AIDS Measurement Error Longitudinal Data Generalized Linear Models Clustered Data Simex Panel Data Asymptotic Bias And Variance Errors In Variables Efficiency Nonparametric Regression Kernel Regression Estimating Equations Generic Health Relevance Nutrition Genetics Absolute Discrepancies Computer Simulation Algorithms Monte Carlo Method Models, Genetic Relative Discrepancies Humans Hardy–weinberg Equilibrium Genotype Alleles Root Mean Square Functional Measurement Error Modeling Semiparametric Regression External Validation Study Structural Measurement Error Modeling Measurement Error Likelihood Method Regression Calibration Simulation Extrapolation Algorithm Generalized Linear Models Misclassification Prospective Study Mallows Estimate Robust Estimation Case-control Study Logistic Regression Biometry Scalp Models, Statistical Tinea Capitis Risk Factors Humans Likelihood Functions Cohort Studies Child Israel Neoplasms, Radiation-Induced Models, Biological Thyroid Neoplasms Dose-Response Relationship, Radiation Oral And Gastrointestinal Obesity Metabolic And Endocrine Cardiovascular Nutrition Prevention Generalized Additive Models Backfitting Generalized Partially Linear Models Quasi-likelihood Nonconcave Penalized Likelihood Scad Penalty-based Variable Selection Shrinkage Methods Polynomial Spline Lasso Variance-covariance Structures Percent-change From Baseline Baseline Covariates Repeated Measures Data Mixed Effects Model Cancer Penalized Least Squares Cross-covariance Pixel Errors In Variables Signal Domain IMAGE ANALYSIS Interpolation Nuclear Warfare Dose-Response Relationship, Radiation Iodine Radioisotopes Humans Survivors Chernobyl Nuclear Accident Iodine Neoplasms, Radiation-Induced Risk Thyroid Neoplasms Potassium Iodide Iodine Isotopes Radioactive Fallout Regression Analysis Nutrition Surveys Healthy Eating Index-2005 Computer Models Computer Simulation Nutritional Epidemiology Moment Reconstruction Logistic Models Berkson-type Error Feeding Behavior Models, Statistical Humans Classical Measurement Error Moment-adjusted Imputation Latent Variable Models Confounding Factors, Epidemiologic Randomized Controlled Trials As Topic Linear Models Analysis Of Variance Humans Nonlinear Mixed-effects Model Joint Modelling Autocorrelated Errors Mcmc Methods Generalized Linear Models Longitudinal Data Biased Estimates Post-model Selection Inference Finite Sample Inference Shrinkage Variable Selection 2.5 Research Design And Methodologies (aetiology) Generic Health Relevance Permutation Tests Phenomics Phenotype Humans Female Biolog Data Interpretation, Statistical Models, Genetic Functional Data Analysis Oligonucleotide Array Sequence Analysis High-throughput Phenotyping Models, Statistical Male Phenotype Microarrays Principal Components Principal Component Analysis Spatio-temporal Dependence Nonlinear Regression Covariance Function Time Series Nonparametric Regression Bias Sex Factors Edible Grain Regression Analysis Mental Recall Surveys And Questionnaires Statistical Distributions Seasons Humans Educational Status Male Time Factors Diet Nutrition Assessment Models, Statistical Diet Surveys Female Analysis Of Variance Vegetables Missing Co-variates Local Linear Regression Estimating Equation Semiparametric Estimation Clustered Data Efficient Score Bootstrap Nonparametric Regression Longitudinal Data Stroke Oral And Gastrointestinal Metabolic And Endocrine Cardiovascular Nutrition Prevention Cancer Least Squares Histogram Interpolation Efficient Estimation Clustered Data Local Polynomial Bandwidth Smoothing Binwidth Financial Data Kernel Methods Longitudinal Data Optimality Local Linear 3.1 Primary Prevention Interventions To Modify Behaviours Or Promote Wellbeing Stroke Oral And Gastrointestinal Metabolic And Endocrine Cardiovascular Prevention Cancer 2.1 Biological And Endogenous Factors Generic Health Relevance Genetics Prevention DNA Cell Separation Rats, Inbred Strains Myocardium Myocardial Infarction DNA Replication Rats Male Autoradiography Animals Cell Nucleus Heart Atria Smoother Matrix Under-smoothing Asymptotic Distribution Local Linear Estimation Kernel Estimation Bandwidth Apoptosis Gene Expression Regulation, Neoplastic Rats, Sprague-Dawley Diet Colonic Neoplasms DNA Methylation DNA, Neoplasm Rats Neoplasms, Experimental RNA, Neoplasm Male Fish Oils Pectins Proto-Oncogene Proteins C-bcl-2 Azo Compounds Animals Promoter Regions, Genetic RNA, Messenger Kullback-leibler Distance Akaike Information Model Averaging Model Selection Prediction Mental Health Measurement-error Models Residual Plots Nonparametric Regression Score Testing Semiparametric Models Efficient Testing Local Alternatives Goodness-of-fit Tests Errors In Variables Efficient Estimation Measurement Error Pdr Sedentary Questionnaire Measurement Error Bioprosthesis Heart Valve Prosthesis Aortic Valve Calcinosis Hemodynamics Sheep Animals Cancer Genetics Mice Animals Administration, Inhalation Tetrachloroethylene Rats Central Nervous System Male Models, Biological Humans Female Risk Regression Analysis Time Factors Data Interpretation, Statistical Gene Expression Profiling Sensitivity And Specificity Algorithms Neoplasm Proteins Oligonucleotide Array Sequence Analysis Reproducibility Of Results Genetic Testing Biomarkers, Tumor Humans Prognosis Breast Neoplasms Genetic Predisposition To Disease Sample Size Efficient Semiparametrie Estimation Bayes Information Criterion Frequentist Model Averaging Akaike Information Criterion Model Averaging Profile Likelihood Semiparametric Model Model Selection ENZYMES Biometry Linear Models Models, Biological Kinetics Analysis Of Variance 8.4 Research Design And Methodologies (health Services) Generic Health Relevance Generic Health Relevance Colonic Neoplasms Blotting, Western Time Factors Rats, Sprague-Dawley Gene Expression Carcinogens Genes, Bcl-2 Analysis Of Variance Rats Apoptosis Fish Oils Animals Male Down-Regulation Immunohistochemistry Lead Predictive Value Of Tests Models, Biological Reproducibility Of Results Algorithms Child Animals Humans Linear Models Precursor Cell Lymphoblastic Leukemia-lymphoma Data Interpretation, Statistical Models, Statistical Child, Preschool Female Longitudinal Studies Child Humans Body Height Software Biometry Mathematical Computing Nutrition Assessment Reproducibility Of Results Risk Factors Diet Reference Values Humans Intervention Trial Self Report Diet Biomarker Biomarkers Self-report Diet Records SODIUM INTAKE Humans Reproducibility Of Results Measurement Error Differential Error Biometry Genetic Predisposition To Disease Models, Genetic Epidemiologic Methods Case-Control Studies Risk Factors Logistic Models Humans Environmental Exposure Genotype Research Design Likelihood Functions Alleles Choice-based Sampling Binary Logit Bootstrap Robustness Measurement Error Surveys And Questionnaires Reproducibility Of Results Adult Female Urea Models, Statistical Diet Surveys Middle Aged Bias Deuterium Oxide Maryland Diet Energy Intake Dietary Proteins Epidemiologic Methods Aged Reference Standards Biomarkers Humans Male Nucleic Acid Hybridization Research Design Oligonucleotide Array Sequence Analysis Data Collection Transcription, Genetic Genomics Gene Expression Profiling Animals Humans Logistic Models Models, Statistical Bayes Theorem Cohort Studies Female Regression Analysis Genetic Carrier Screening Case-Control Studies Linear Models Muscular Dystrophy, Duchenne Humans Male Biometry Discriminant Analysis Complementary And Integrative Health Nutrition Genetics Repeated Measures Equivalent Kernel Nonparametric Regression Generalized Least Squares Generalized Estimating Equation Smoothing Spline Regression Spline Weighted Least Squares P-spline Clustered Data Kernel Regression Longitudinal Model Binary Response Combining Information Toxicology Generalized Estimating Equation Environmental Statistics Model Averaging Optimality Model Selection Weight Measurement Error Nutrition Assessment Diet Records Reproducibility Of Results Regression Analysis Computer Simulation Humans Nonparametric Regression Kernel Method Longitudinal Data Clustered Data Sandwich Estimator Profile Method Marginal Models Semiparametric-efficient Score Partially Linear Model Generalized Estimating Equations Semiparametric Information Bound Time-dependent Covariate Signal Processing, Computer-Assisted Diagnosis, Computer-Assisted Biometry Humans Colorectal Neoplasms Precancerous Conditions Data Interpretation, Statistical Models, Statistical Computer Simulation Statistics As Topic Databases, Factual Models, Biological Generic Health Relevance Bioengineering Dynamical Models Lidar Data Parameter Cascading B-splines System Identification Inverse Problems Digestive Diseases Bioengineering Cancer Differential Misclassification Pseudolikelihood Case-control Study Asymptotics Logistic Regression Errors In Variables Bioengineering Confidence Band B Spline Karhunen-loève L2 Representation Strong Approximation Knots Longitudinal Data Functional Data Functional Regression Measurement Error Models Method Of Moments Linear Regression Colo-rectal Cancer Digestive Diseases Complementary And Integrative Health Nutrition Prevention Cancer Genetic Testing Human Genome Brain Cancer 4.1 Discovery And Preclinical Testing Of Markers And Technologies Rare Diseases Genetics Biotechnology Cancer Brain Disorders Male DNA Damage Fish Oils Colonic Neoplasms Oxidative Stress Immunohistochemistry Anticarcinogenic Agents Apoptosis Rats, Sprague-Dawley Colon Animals Rats Clinical Trials, Phase Ii As Topic Disease Progression Research Design Time Factors Models, Statistical Computer Simulation Antineoplastic Agents Humans Europe Diet Epidemiologic Methods Biometry Bayes Theorem Markov Chains Breast Neoplasms Prospective Studies Dietary Fats Risk Factors Energy Intake Models, Statistical Multicenter Studies As Topic Female Quasilikelihood Functions Local Linear Smoother Kernel Regression Generalized Linear Models Missing At Random Measurement Error Endpoint Determination Likelihood Functions Research Design Longitudinal Studies Data Interpretation, Statistical Clinical Trials As Topic Models, Theoretical Analysis Of Variance Humans Colo-rectal Cancer Digestive Diseases Genetics Cancer Computationally Intensive Methods Measurement Error Models Asymptotics Bootstrap Colo-rectal Cancer Digestive Diseases Cancer Dietary Proteins Guidelines As Topic Vegetables Adolescent Nutritive Value Adult Fruit Male Nutritional Status Child Child, Preschool Diet Reproducibility Of Results Humans Food, Organic Nutrition Assessment Young Adult United States Recommended Dietary Allowances Feeding Behavior Nutrition Surveys Edible Grain Mental Recall Middle Aged Female Global Inference Simultaneous Confidence Band Partially Linear Single Index Models Oracle Estimator Additive Models Identifiability Regression Spline Misspecification Adipose Tissue, White Animals Anti-Obesity Agents Adiposity Diabetes Interferon Tau Energy Expenditure Obesity Oxidation-Reduction Leucine Transaminase Diabetes Mellitus, Type 2 Glycerol Male Rats Pregnancy Proteins Insulin Organ Size Amino Acids Adiponectin Drug Evaluation, Preclinical Tissue Oxidation Administration, Oral Energy Metabolism Oxidative Stress Blood Glucose Rats, Zucker Lipids Interferon Type I Liver Leptin Sample Size Cross-Sectional Studies Research Design Follow-Up Studies Longitudinal Studies Clinical Trials As Topic Random Allocation Cohort Studies Models, Statistical Adult Eating Aged Biometry Female Humans Male Middle Aged Coronary Disease Sodium Chloride Inverse Transform Centroid Classifier Spatial Data Cross-validation Fourier Transform Colo-rectal Cancer Digestive Diseases Complementary And Integrative Health Nutrition Prevention Cancer Sample Size Regression Calibration Myocardial Ischemia Models, Statistical Spatial Linear Model Bivariate Smoothing Penalized Least Squares Geoadditive Models Spatial Regression Humans Geography, Medical Socioeconomic Factors Bias Computer Simulation Socio-economic Indexes For Areas Viral Envelope Proteins Hiv Antigens Data Interpretation, Statistical Mathematics Biological Evolution Animals Non-linear Regression Errors In Variables Bootstrap Estimating Equations Measurement Error Nutrition Female Mixed Models Adult Computer Simulation Diet Humans Nutritional Epidemiology Models, Statistical Regression Analysis Measurement Error Calibration Nonlinear Mixed Models Body Mass Index Research Design Interactions Male Models, Biological Biometry Computer Simulation Animals Lynx Predatory Behavior Algorithms Adaptive Lasso Models, Statistical Least Squares Approximation Rabbits Spline Modeling Humans Variable Selection Zero Within-class And Between-class Correlations Sparse Discriminant Analysis Sparse Regression By Projection Discriminant Analysis Biometry Feeding Behavior Reproducibility Of Results Memory Diet Records Energy Intake Female Diet Humans Analysis Of Variance Surveys And Questionnaires Bias Carcinogens DNA Adducts Colonic Neoplasms O(6)-methylguanine-dna Methyltransferase Animals DNA Damage Male Immunoenzyme Techniques Methylation DNA, Neoplasm Lipid Metabolism DNA Repair Adenocarcinoma Rats Azoxymethane Rats, Sprague-Dawley Apoptosis Apoptosis DNA Damage Cell Division Cell Compartmentation Azoxymethane Alkyl And Aryl Transferases Animals Alkylation Carcinogens Rats, Sprague-Dawley DNA DNA Methylation Cells, Cultured Rats DNA Repair Colon Male Stem Cells 8.4 Research Design And Methodologies (health Services) Digestive Diseases Complementary And Integrative Health Nutrition Injury (total) Accidents/adverse Effects Skew-normal Distribution Variance Function Measurement Errors B-spline Conditional Heteroscedasticity Density Deconvolution Dirichlet Process Mixture Models Apigenin Animals Male Rats, Sprague-Dawley Apoptosis Diet Colon Cyclooxygenase 2 Rats Citrus Blotting, Western Histocytochemistry Azoxymethane Antineoplastic Agents Cell Proliferation Nitric Oxide Synthase Type II Colonic Neoplasms Flavanones Nevada Adolescent Iodine Radioisotopes Child Male Nuclear Warfare Environmental Exposure Radioactive Fallout Thyroid Diseases Female Dose-Response Relationship, Radiation Radiometry Humans Clinical Trials, Phase Ii As Topic Standard Error Tail Probability Posterior Distribution Importance Sampling Markov Chain Bootstrap Generic Health Relevance 2.5 Research Design And Methodologies (aetiology) Colo-rectal Cancer Digestive Diseases Nutrition Cancer Score Tests Adaptive Lasso Logistic Models Humans Computer Simulation Lasso Male Female Models, Statistical Oracle Estimation Reproducibility Of Results Gene-environment Interactions Model Selection Likelihood Functions Regression Analysis Smoothing Parameter Local False Discovery Rate Variable Selection Adaptive Lasso Computer Simulation Humans Models, Statistical False Positive Reactions Male Biomarkers, Tumor Prostate-specific Antigen Polymorphism, Single Nucleotide Prostatic Neoplasms Disease Diet Records Diet Biomarkers Models, Statistical Regression Analysis Computer Simulation Humans Female Stochastic Approximation Hierarchical Models Principal Components Functional Data Analysis Markov Chain Monte Carlo Longitudinal Data Bioengineering Prevention Generalized Linear Models Efficiency Functional Method Bayesian Methods Nonparametric Regression Errors In Variables Smoothing Splines Regression Splines P-splines Measurement Error Kernel Regression Simex Method Structural Modeling 8.4 Research Design And Methodologies (health Services)\""
      ]
     },
     "execution_count": 98,
     "metadata": {},
     "output_type": "execute_result"
    }
   ],
   "source": [
    "# df.idxmax()\n",
    "['n032647a0']"
   ]
  },
  {
   "cell_type": "code",
   "execution_count": 92,
   "metadata": {},
   "outputs": [],
   "source": [
    "df.to_pickle('../../Data/Scholars@TAMU/my_api_calls/wikipedia_keyword_comparison.pickle')"
   ]
  },
  {
   "cell_type": "code",
   "execution_count": 72,
   "metadata": {},
   "outputs": [],
   "source": [
    "d = run_gensim_similarities(text_dict=abstract_dict, keyword=wiki_text)"
   ]
  },
  {
   "cell_type": "code",
   "execution_count": 78,
   "metadata": {},
   "outputs": [
    {
     "name": "stdout",
     "output_type": "stream",
     "text": [
      "n518675SE   0.877\n",
      "n227562SE   0.876\n",
      "n193536SE   0.864\n",
      "n146780SE   0.853\n",
      "n217539SE   0.850\n",
      "             ... \n",
      "n352604SE   0.002\n",
      "n389166SE   0.001\n",
      "n103223SE   0.001\n",
      "n296947SE   0.001\n",
      "n601755SE   0.000\n",
      "Length: 143561, dtype: float32\n"
     ]
    },
    {
     "data": {
      "text/plain": [
       "'<jats:p>One major characteristic of studies in operations and supply chain                         management literature is a focus on how integration can lead to superior                         operations and manufacturing outcomes. Most of these studies, however, focus                         only on internal or external integration and few have been dedicated to                         understand how both internal and external integration influence performance                         outcomes. In addition, few studies, if any, have looked to the antecedents                         of organizational structure as a driver for such forms of integration. To                         help filling this gap, we draw on organizational structure and                         resource-based view theoretical perspectives to present a conceptual model                         that proposes a relationship between organizational structure and                         integration. The model also considers major antecedents of organizational                         structure and the manufacturing performance consequences of integration. As                         a result, we introduce a series of propositions to be subject to empirical                         scrutiny as well as serve as a reference for future conceptual and empirical                         models.</jats:p>'"
      ]
     },
     "execution_count": 78,
     "metadata": {},
     "output_type": "execute_result"
    }
   ],
   "source": [
    "nlp = pd.Series(d)\n",
    "\n",
    "print(nlp.sort_values(ascending=False)[nlp != 0])\n",
    "\n",
    "publications.loc['n518675SE']['abstract']\n",
    "# publications.loc['n400269SE']['abstract']"
   ]
  },
  {
   "cell_type": "code",
   "execution_count": 82,
   "metadata": {},
   "outputs": [],
   "source": [
    "wiki_text = get_wikipedia_article(top_articles[2]['article'])\n",
    "keyword_similarities = run_gensim_similarities(text_dict=keywords_dict, keyword=wiki_text)"
   ]
  },
  {
   "cell_type": "code",
   "execution_count": 84,
   "metadata": {},
   "outputs": [
    {
     "name": "stdout",
     "output_type": "stream",
     "text": [
      "n032647a0   0.649\n",
      "nbb6c8c2a   0.646\n",
      "n47de353a   0.642\n",
      "n7deb8230   0.639\n",
      "n70a3d026   0.639\n",
      "             ... \n",
      "nd13e4d2d   0.046\n",
      "n2f2205de   0.041\n",
      "n5c077f89   0.033\n",
      "nff831fe5   0.028\n",
      "nfa5c67e9   0.027\n",
      "Length: 3068, dtype: float32\n"
     ]
    },
    {
     "data": {
      "text/plain": [
       "uin                                                        402000618\n",
       "lastname                                                     Carroll\n",
       "middlename                                                         J\n",
       "firstname                                                    Raymond\n",
       "email                                              rcarroll@tamu.edu\n",
       "preferred_title                              Distinguished Professor\n",
       "employment_type                                              Faculty\n",
       "research_areas                                                    []\n",
       "keywords           [2.5 Research Design And Methodologies (aetiol...\n",
       "colleges                                        [College of Science]\n",
       "organizations                                           [Statistics]\n",
       "education          [{'id': 'n032647a0_3482b02b-b399-11e9-adb7-001...\n",
       "teaching           [{'id': 'n62393ae6', 'label': 'STAT485 Directe...\n",
       "publications       [{'id': 'n295784SE', 'label': 'Hierarchical fu...\n",
       "hr_title                                     Distinguished Professor\n",
       "all_positions      [{'id': 'nb0f231e7', 'label': 'Distinguished P...\n",
       "overview                                                            \n",
       "Name: n032647a0, dtype: object"
      ]
     },
     "execution_count": 84,
     "metadata": {},
     "output_type": "execute_result"
    }
   ],
   "source": [
    "nlp = pd.Series(keyword_similarities)\n",
    "\n",
    "print(nlp.sort_values(ascending=False)[nlp != 0])\n",
    "\n",
    "people.loc['n032647a0']"
   ]
  }
 ],
 "metadata": {
  "interpreter": {
   "hash": "08d0539260069d16647a15bda43b9d2b76357daee9ecd5899972fb55ddf4875b"
  },
  "kernelspec": {
   "display_name": "Python 3.10.2 ('tamids')",
   "language": "python",
   "name": "python3"
  },
  "language_info": {
   "codemirror_mode": {
    "name": "ipython",
    "version": 3
   },
   "file_extension": ".py",
   "mimetype": "text/x-python",
   "name": "python",
   "nbconvert_exporter": "python",
   "pygments_lexer": "ipython3",
   "version": "3.10.2"
  },
  "orig_nbformat": 4
 },
 "nbformat": 4,
 "nbformat_minor": 2
}
