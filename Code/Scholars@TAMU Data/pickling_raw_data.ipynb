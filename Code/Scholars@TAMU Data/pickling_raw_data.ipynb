{
 "cells": [
  {
   "cell_type": "markdown",
   "metadata": {},
   "source": [
    "# Pickling Scholars@TAMU Excel Data  \n",
    "**Filename:** pickle_raw_data.ipynb  \n",
    "**Path:** TAMIDS/Code/Scholars@TAMU Data/pickling_raw_data.ipynb  \n",
    "**Created Date:** 19 March 2022, 13:52 \n",
    "\n",
    "Since the excel docs provided take over 8 minutes to fully be covnerted to Dataframes, they will be converted to .pickle files for quicker access."
   ]
  },
  {
   "cell_type": "code",
   "execution_count": 1,
   "metadata": {},
   "outputs": [],
   "source": [
    "from IPython.display import Markdown, display, HTML\n",
    "import matplotlib.pyplot as plt\n",
    "import seaborn as sns\n",
    "import numpy as np\n",
    "import pandas as pd\n",
    "import json\n",
    "\n",
    "pd.options.display.float_format = '{:,.1f}'.format\n",
    "pd.options.styler.format.precision = 0\n",
    "pd.options.styler.format.thousands = ','\n",
    "pd.options.display.max_columns = 50\n",
    "plt.style.use('seaborn-darkgrid')\n",
    "\n",
    "# General Markdown Formatting Functions\n",
    "\n",
    "def printmd(string, level=1):\n",
    "    header_level = '#'*level + ' '\n",
    "    display(Markdown(header_level + string))"
   ]
  },
  {
   "cell_type": "markdown",
   "metadata": {},
   "source": [
    "## Scholars@TAMU"
   ]
  },
  {
   "cell_type": "code",
   "execution_count": 2,
   "metadata": {},
   "outputs": [
    {
     "name": "stdout",
     "output_type": "stream",
     "text": [
      "Scholars API Documentation.docx  \u001b[34mgrant_award\u001b[m\u001b[m\n",
      "Scholars InfomationSheet.pdf     \u001b[34morganizations\u001b[m\u001b[m\n",
      "Scholars data dictionary.pdf     \u001b[34mpeople\u001b[m\u001b[m\n",
      "ScholarsAPI Info.pdf             \u001b[34mpublications\u001b[m\u001b[m\n",
      "\u001b[34mcourses\u001b[m\u001b[m                          sample ris_TAMU at Galveston.ris\n",
      "data overview.pdf\n"
     ]
    }
   ],
   "source": [
    "path_to_provided_data = \"../../Provided Resources/2022 Student Data Science Competition_TAMIDS/Scholars@TAMU Data\"\n",
    "\n",
    "!ls \"$path_to_provided_data\""
   ]
  },
  {
   "cell_type": "code",
   "execution_count": 3,
   "metadata": {},
   "outputs": [
    {
     "name": "stdout",
     "output_type": "stream",
     "text": [
      "\u001b[34mcourses\u001b[m\u001b[m           \u001b[34morganizations\u001b[m\u001b[m     \u001b[34mpublications\u001b[m\u001b[m\n",
      "\u001b[34mgrants_and_awards\u001b[m\u001b[m \u001b[34mpeople\u001b[m\u001b[m\n"
     ]
    }
   ],
   "source": [
    "path_to_pickled_data = \"../../Data/Scholars@TAMU\"\n",
    "\n",
    "!ls \"$path_to_pickled_data\""
   ]
  },
  {
   "cell_type": "code",
   "execution_count": 4,
   "metadata": {},
   "outputs": [],
   "source": [
    "excel_filenames = {\n",
    "    \"people\": [\n",
    "        \"people_affiliation\",\n",
    "        \"People_education\",\n",
    "        \"people_overview\",\n",
    "        \"people_subject_areas\"\n",
    "    ],\n",
    "    \"courses\": [\n",
    "        \"Course_overview\"\n",
    "    ],\n",
    "    \"grant_award\": [\n",
    "        \"Award_overview\",\n",
    "        \"Grant_abstract\",\n",
    "        \"Grant_overview\"\n",
    "    ],\n",
    "    \"organizations\": [\n",
    "        \"organization_external\",\n",
    "        \"organization_local\"\n",
    "    ],\n",
    "    \"publications\": [\n",
    "        \"Pub_abstract\",\n",
    "        \"Pub_author_institutions\",\n",
    "        \"Pub_overview\",\n",
    "        \"Pub_subject_journal_wos\",\n",
    "        \"Pub_unsdg\"\n",
    "    ]\n",
    "}\n",
    "\n",
    "pickle_filenames = {\n",
    "    \"people\": [\n",
    "        \"people_affiliation\",\n",
    "        \"people_education\",\n",
    "        \"people_overview\",\n",
    "        \"people_subject_areas\"\n",
    "    ],\n",
    "    \"courses\": [\n",
    "        \"course_overview\"\n",
    "    ],\n",
    "    \"grants_and_awards\": [\n",
    "        \"awards_overview\",\n",
    "        \"grants_abstract\",\n",
    "        \"grants_overview\"\n",
    "    ],\n",
    "    \"organizations\": [\n",
    "        \"organizations_external\",\n",
    "        \"organizations_local\"\n",
    "    ],\n",
    "    \"publications\": [\n",
    "        \"publications_abstract\",\n",
    "        \"publications_author_institutions\",\n",
    "        \"publications_overview\",\n",
    "        \"publications_subject_journal_wos\",\n",
    "        \"publications_unsdg\"\n",
    "    ]\n",
    "}\n",
    "\n",
    "with open('dicts/excel_filenames.json', 'w') as outfile:\n",
    "    json.dump(excel_filenames, outfile, indent=4)\n",
    "\n",
    "with open('dicts/raw_filenames.json', 'w') as outfile:\n",
    "    json.dump(pickle_filenames, outfile, indent=4)"
   ]
  },
  {
   "cell_type": "code",
   "execution_count": 5,
   "metadata": {},
   "outputs": [],
   "source": [
    "import os\n",
    "\n",
    "def convert_bytes(num):\n",
    "    for unit in ['bytes', 'KB', 'MB', 'GB', 'TB']:\n",
    "        if num < 1024.0:\n",
    "            return f\"{num:.1f} {unit}\"\n",
    "        num /= 1024.0\n",
    "\n",
    "\n",
    "def file_size(file_path, convert=False):\n",
    "    if os.path.isfile(file_path):\n",
    "        file_info = os.stat(file_path)\n",
    "        if convert:\n",
    "            return convert_bytes(file_info.st_size)\n",
    "        else:\n",
    "            return file_info.st_size\n"
   ]
  },
  {
   "cell_type": "code",
   "execution_count": 58,
   "metadata": {},
   "outputs": [
    {
     "data": {
      "text/markdown": [
       "### size of each file"
      ],
      "text/plain": [
       "<IPython.core.display.Markdown object>"
      ]
     },
     "metadata": {},
     "output_type": "display_data"
    },
    {
     "data": {
      "text/html": [
       "<style type=\"text/css\">\n",
       "#T_39ffe_row0_col0, #T_39ffe_row0_col1, #T_39ffe_row0_col2, #T_39ffe_row0_col3, #T_39ffe_row0_col5, #T_39ffe_row0_col7, #T_39ffe_row0_col9, #T_39ffe_row0_col14, #T_39ffe_row1_col0, #T_39ffe_row1_col1, #T_39ffe_row1_col3, #T_39ffe_row1_col9 {\n",
       "  color: #f3f0f3;\n",
       "}\n",
       "#T_39ffe_row0_col4, #T_39ffe_row1_col2, #T_39ffe_row1_col4 {\n",
       "  color: #f3eef3;\n",
       "}\n",
       "#T_39ffe_row0_col6, #T_39ffe_row1_col5, #T_39ffe_row1_col7, #T_39ffe_row1_col14 {\n",
       "  color: #f3eff3;\n",
       "}\n",
       "#T_39ffe_row0_col8, #T_39ffe_row0_col13, #T_39ffe_row1_col6 {\n",
       "  color: #f3ebf3;\n",
       "}\n",
       "#T_39ffe_row0_col10 {\n",
       "  color: #f5c0f5;\n",
       "}\n",
       "#T_39ffe_row0_col11 {\n",
       "  color: #f4ddf4;\n",
       "}\n",
       "#T_39ffe_row0_col12 {\n",
       "  color: #f4d6f4;\n",
       "}\n",
       "#T_39ffe_row1_col8 {\n",
       "  color: #f4dff4;\n",
       "}\n",
       "#T_39ffe_row1_col10 {\n",
       "  color: #ff00ff;\n",
       "}\n",
       "#T_39ffe_row1_col11 {\n",
       "  color: #f4d0f4;\n",
       "}\n",
       "#T_39ffe_row1_col12 {\n",
       "  color: #f6b4f6;\n",
       "}\n",
       "#T_39ffe_row1_col13 {\n",
       "  color: #f3e3f3;\n",
       "}\n",
       "</style>\n",
       "<table id=\"T_39ffe\">\n",
       "  <thead>\n",
       "    <tr>\n",
       "      <th class=\"blank level0\" >&nbsp;</th>\n",
       "      <th id=\"T_39ffe_level0_col0\" class=\"col_heading level0 col0\" >courses</th>\n",
       "      <th id=\"T_39ffe_level0_col1\" class=\"col_heading level0 col1\" colspan=\"3\">grant_award</th>\n",
       "      <th id=\"T_39ffe_level0_col4\" class=\"col_heading level0 col4\" colspan=\"2\">organizations</th>\n",
       "      <th id=\"T_39ffe_level0_col6\" class=\"col_heading level0 col6\" colspan=\"4\">people</th>\n",
       "      <th id=\"T_39ffe_level0_col10\" class=\"col_heading level0 col10\" colspan=\"5\">publications</th>\n",
       "    </tr>\n",
       "    <tr>\n",
       "      <th class=\"blank level1\" >&nbsp;</th>\n",
       "      <th id=\"T_39ffe_level1_col0\" class=\"col_heading level1 col0\" >Course_overview</th>\n",
       "      <th id=\"T_39ffe_level1_col1\" class=\"col_heading level1 col1\" >Award_overview</th>\n",
       "      <th id=\"T_39ffe_level1_col2\" class=\"col_heading level1 col2\" >Grant_abstract</th>\n",
       "      <th id=\"T_39ffe_level1_col3\" class=\"col_heading level1 col3\" >Grant_overview</th>\n",
       "      <th id=\"T_39ffe_level1_col4\" class=\"col_heading level1 col4\" >organization_external</th>\n",
       "      <th id=\"T_39ffe_level1_col5\" class=\"col_heading level1 col5\" >organization_local</th>\n",
       "      <th id=\"T_39ffe_level1_col6\" class=\"col_heading level1 col6\" >People_education</th>\n",
       "      <th id=\"T_39ffe_level1_col7\" class=\"col_heading level1 col7\" >people_affiliation</th>\n",
       "      <th id=\"T_39ffe_level1_col8\" class=\"col_heading level1 col8\" >people_overview</th>\n",
       "      <th id=\"T_39ffe_level1_col9\" class=\"col_heading level1 col9\" >people_subject_areas</th>\n",
       "      <th id=\"T_39ffe_level1_col10\" class=\"col_heading level1 col10\" >Pub_abstract</th>\n",
       "      <th id=\"T_39ffe_level1_col11\" class=\"col_heading level1 col11\" >Pub_author_institutions</th>\n",
       "      <th id=\"T_39ffe_level1_col12\" class=\"col_heading level1 col12\" >Pub_overview</th>\n",
       "      <th id=\"T_39ffe_level1_col13\" class=\"col_heading level1 col13\" >Pub_subject_journal_wos</th>\n",
       "      <th id=\"T_39ffe_level1_col14\" class=\"col_heading level1 col14\" >Pub_unsdg</th>\n",
       "    </tr>\n",
       "  </thead>\n",
       "  <tbody>\n",
       "    <tr>\n",
       "      <th id=\"T_39ffe_level0_row0\" class=\"row_heading level0 row0\" >excel_file_size</th>\n",
       "      <td id=\"T_39ffe_row0_col0\" class=\"data row0 col0\" >368.7 KB</td>\n",
       "      <td id=\"T_39ffe_row0_col1\" class=\"data row0 col1\" >656.3 KB</td>\n",
       "      <td id=\"T_39ffe_row0_col2\" class=\"data row0 col2\" >1.0 MB</td>\n",
       "      <td id=\"T_39ffe_row0_col3\" class=\"data row0 col3\" >427.1 KB</td>\n",
       "      <td id=\"T_39ffe_row0_col4\" class=\"data row0 col4\" >3.2 MB</td>\n",
       "      <td id=\"T_39ffe_row0_col5\" class=\"data row0 col5\" >721.1 KB</td>\n",
       "      <td id=\"T_39ffe_row0_col6\" class=\"data row0 col6\" >1.9 MB</td>\n",
       "      <td id=\"T_39ffe_row0_col7\" class=\"data row0 col7\" >693.3 KB</td>\n",
       "      <td id=\"T_39ffe_row0_col8\" class=\"data row0 col8\" >7.4 MB</td>\n",
       "      <td id=\"T_39ffe_row0_col9\" class=\"data row0 col9\" >46.0 KB</td>\n",
       "      <td id=\"T_39ffe_row0_col10\" class=\"data row0 col10\" >69.2 MB</td>\n",
       "      <td id=\"T_39ffe_row0_col11\" class=\"data row0 col11\" >27.1 MB</td>\n",
       "      <td id=\"T_39ffe_row0_col12\" class=\"data row0 col12\" >36.7 MB</td>\n",
       "      <td id=\"T_39ffe_row0_col13\" class=\"data row0 col13\" >7.3 MB</td>\n",
       "      <td id=\"T_39ffe_row0_col14\" class=\"data row0 col14\" >410.1 KB</td>\n",
       "    </tr>\n",
       "    <tr>\n",
       "      <th id=\"T_39ffe_level0_row1\" class=\"row_heading level0 row1\" >pickle_file_size</th>\n",
       "      <td id=\"T_39ffe_row1_col0\" class=\"data row1 col0\" >892.6 KB</td>\n",
       "      <td id=\"T_39ffe_row1_col1\" class=\"data row1 col1\" >1.1 MB</td>\n",
       "      <td id=\"T_39ffe_row1_col2\" class=\"data row1 col2\" >2.8 MB</td>\n",
       "      <td id=\"T_39ffe_row1_col3\" class=\"data row1 col3\" >965.6 KB</td>\n",
       "      <td id=\"T_39ffe_row1_col4\" class=\"data row1 col4\" >3.6 MB</td>\n",
       "      <td id=\"T_39ffe_row1_col5\" class=\"data row1 col5\" >1.6 MB</td>\n",
       "      <td id=\"T_39ffe_row1_col6\" class=\"data row1 col6\" >7.2 MB</td>\n",
       "      <td id=\"T_39ffe_row1_col7\" class=\"data row1 col7\" >1.8 MB</td>\n",
       "      <td id=\"T_39ffe_row1_col8\" class=\"data row1 col8\" >25.3 MB</td>\n",
       "      <td id=\"T_39ffe_row1_col9\" class=\"data row1 col9\" >100.7 KB</td>\n",
       "      <td id=\"T_39ffe_row1_col10\" class=\"data row1 col10\" >342.4 MB</td>\n",
       "      <td id=\"T_39ffe_row1_col11\" class=\"data row1 col11\" >45.8 MB</td>\n",
       "      <td id=\"T_39ffe_row1_col12\" class=\"data row1 col12\" >84.6 MB</td>\n",
       "      <td id=\"T_39ffe_row1_col13\" class=\"data row1 col13\" >20.0 MB</td>\n",
       "      <td id=\"T_39ffe_row1_col14\" class=\"data row1 col14\" >1.8 MB</td>\n",
       "    </tr>\n",
       "  </tbody>\n",
       "</table>\n"
      ],
      "text/plain": [
       "<pandas.io.formats.style.Styler at 0x149b44b80>"
      ]
     },
     "metadata": {},
     "output_type": "display_data"
    },
    {
     "data": {
      "text/markdown": [
       "### size of each folder"
      ],
      "text/plain": [
       "<IPython.core.display.Markdown object>"
      ]
     },
     "metadata": {},
     "output_type": "display_data"
    },
    {
     "data": {
      "text/html": [
       "<style type=\"text/css\">\n",
       "#T_38d52_row0_col0, #T_38d52_row0_col1, #T_38d52_row1_col0 {\n",
       "  color: #f3f0f3;\n",
       "}\n",
       "#T_38d52_row0_col2 {\n",
       "  color: #f3eff3;\n",
       "}\n",
       "#T_38d52_row0_col3 {\n",
       "  color: #f3ecf3;\n",
       "}\n",
       "#T_38d52_row0_col4 {\n",
       "  color: #f6acf6;\n",
       "}\n",
       "#T_38d52_row1_col1, #T_38d52_row1_col2 {\n",
       "  color: #f3eef3;\n",
       "}\n",
       "#T_38d52_row1_col3 {\n",
       "  color: #f4e0f4;\n",
       "}\n",
       "#T_38d52_row1_col4 {\n",
       "  color: #ff00ff;\n",
       "}\n",
       "</style>\n",
       "<table id=\"T_38d52\">\n",
       "  <thead>\n",
       "    <tr>\n",
       "      <th class=\"blank level0\" >&nbsp;</th>\n",
       "      <th id=\"T_38d52_level0_col0\" class=\"col_heading level0 col0\" >courses</th>\n",
       "      <th id=\"T_38d52_level0_col1\" class=\"col_heading level0 col1\" >grant_award</th>\n",
       "      <th id=\"T_38d52_level0_col2\" class=\"col_heading level0 col2\" >organizations</th>\n",
       "      <th id=\"T_38d52_level0_col3\" class=\"col_heading level0 col3\" >people</th>\n",
       "      <th id=\"T_38d52_level0_col4\" class=\"col_heading level0 col4\" >publications</th>\n",
       "    </tr>\n",
       "  </thead>\n",
       "  <tbody>\n",
       "    <tr>\n",
       "      <th id=\"T_38d52_level0_row0\" class=\"row_heading level0 row0\" >excel_file_size</th>\n",
       "      <td id=\"T_38d52_row0_col0\" class=\"data row0 col0\" >368.7 KB</td>\n",
       "      <td id=\"T_38d52_row0_col1\" class=\"data row0 col1\" >2.1 MB</td>\n",
       "      <td id=\"T_38d52_row0_col2\" class=\"data row0 col2\" >3.9 MB</td>\n",
       "      <td id=\"T_38d52_row0_col3\" class=\"data row0 col3\" >10.0 MB</td>\n",
       "      <td id=\"T_38d52_row0_col4\" class=\"data row0 col4\" >140.6 MB</td>\n",
       "    </tr>\n",
       "    <tr>\n",
       "      <th id=\"T_38d52_level0_row1\" class=\"row_heading level0 row1\" >pickle_file_size</th>\n",
       "      <td id=\"T_38d52_row1_col0\" class=\"data row1 col0\" >892.6 KB</td>\n",
       "      <td id=\"T_38d52_row1_col1\" class=\"data row1 col1\" >4.8 MB</td>\n",
       "      <td id=\"T_38d52_row1_col2\" class=\"data row1 col2\" >5.2 MB</td>\n",
       "      <td id=\"T_38d52_row1_col3\" class=\"data row1 col3\" >34.4 MB</td>\n",
       "      <td id=\"T_38d52_row1_col4\" class=\"data row1 col4\" >494.7 MB</td>\n",
       "    </tr>\n",
       "  </tbody>\n",
       "</table>\n"
      ],
      "text/plain": [
       "<pandas.io.formats.style.Styler at 0x149b44b80>"
      ]
     },
     "metadata": {},
     "output_type": "display_data"
    },
    {
     "data": {
      "text/markdown": [
       "### total_size"
      ],
      "text/plain": [
       "<IPython.core.display.Markdown object>"
      ]
     },
     "metadata": {},
     "output_type": "display_data"
    },
    {
     "data": {
      "text/html": [
       "<style type=\"text/css\">\n",
       "#T_f803e_row0_col0 {\n",
       "  color: #f3f0f3;\n",
       "}\n",
       "#T_f803e_row1_col0 {\n",
       "  color: #ff00ff;\n",
       "}\n",
       "</style>\n",
       "<table id=\"T_f803e\">\n",
       "  <thead>\n",
       "    <tr>\n",
       "      <th class=\"blank level0\" >&nbsp;</th>\n",
       "      <th id=\"T_f803e_level0_col0\" class=\"col_heading level0 col0\" >combined_total</th>\n",
       "    </tr>\n",
       "  </thead>\n",
       "  <tbody>\n",
       "    <tr>\n",
       "      <th id=\"T_f803e_level0_row0\" class=\"row_heading level0 row0\" >excel_file_size</th>\n",
       "      <td id=\"T_f803e_row0_col0\" class=\"data row0 col0\" >156.9 MB</td>\n",
       "    </tr>\n",
       "    <tr>\n",
       "      <th id=\"T_f803e_level0_row1\" class=\"row_heading level0 row1\" >pickle_file_size</th>\n",
       "      <td id=\"T_f803e_row1_col0\" class=\"data row1 col0\" >539.9 MB</td>\n",
       "    </tr>\n",
       "  </tbody>\n",
       "</table>\n"
      ],
      "text/plain": [
       "<pandas.io.formats.style.Styler at 0x149b44b80>"
      ]
     },
     "metadata": {},
     "output_type": "display_data"
    }
   ],
   "source": [
    "excel_sizes_dict = {folder:{filename: file_size(f\"{path_to_provided_data}/{folder}/{filename}.xlsx\") for filename in filenames} for folder, filenames in excel_filenames.items()}\n",
    "pickle_sizes_dict = {folder:{filename: file_size(f\"{path_to_pickled_data}/{folder}/raw_{filename}.pickle\") for filename in filenames} for folder, filenames in pickle_filenames.items()}\n",
    "\n",
    "excel_reform = {(folder, filename): size \\\n",
    "    for folder, folder_dict in excel_sizes_dict.items() \\\n",
    "    for filename, size in folder_dict.items()}\n",
    "pickle_reform = [size \\\n",
    "    for folder, folder_dict in pickle_sizes_dict.items() \\\n",
    "    for filename, size in folder_dict.items()]\n",
    "\n",
    "size_df = pd.DataFrame(excel_reform, index=['excel_file_size'])\n",
    "size_df.columns = size_df.columns.sort_values(ascending=[True, False])\n",
    "size_df.loc['pickle_file_size'] = pickle_reform\n",
    "\n",
    "total_size_df = size_df.groupby(axis=1, level=0).sum()\n",
    "combined_total_size_df = pd.DataFrame(total_size_df.sum(axis=1), columns=['combined_total'])\n",
    "\n",
    "def display_size_with_style(df:pd.DataFrame, color_map):\n",
    "    converted_df = df.applymap(convert_bytes)\n",
    "\n",
    "    cm = sns.color_palette(color_map, as_cmap=True)\n",
    "    color_df = converted_df.style.text_gradient(cmap=cm, axis=None, gmap=df.to_numpy())\n",
    "    display(color_df)\n",
    "\n",
    "printmd(\"size of each file\", 3)\n",
    "display_size_with_style(size_df, \"light:fuchsia\")\n",
    "printmd(\"size of each folder\", 3)\n",
    "display_size_with_style(total_size_df, \"light:fuchsia\")\n",
    "printmd(\"total_size\", 3)\n",
    "display_size_with_style(combined_total_size_df, \"light:fuchsia\")"
   ]
  },
  {
   "cell_type": "code",
   "execution_count": 99,
   "metadata": {},
   "outputs": [
    {
     "data": {
      "text/plain": [
       "[[0.8870588235294118, 0.8870588235294118, 0.8870588235294118, 1.0],\n",
       " [0.7105882352941176, 0.7105882352941176, 0.7105882352941176, 1.0],\n",
       " [0.47843137254901963, 0.47843137254901963, 0.47843137254901963, 1.0],\n",
       " [0.25098039215686274, 0.25098039215686274, 0.25098039215686274, 1.0],\n",
       " [0.9937254901960785, 0.8501960784313726, 0.7043137254901961, 1.0],\n",
       " [0.8274509803921569, 0.9325490196078431, 0.8031372549019608, 1.0],\n",
       " [0.45176470588235296, 0.7670895809304115, 0.4612072279892349, 1.0],\n",
       " [0.0823529411764706, 0.49803921568627446, 0.23137254901960783, 1.0],\n",
       " [0.8141176470588235, 0.883921568627451, 0.9498039215686275, 1.0],\n",
       " [0.09019607843137256, 0.39294117647058824, 0.6705882352941177, 1.0],\n",
       " [0.8878431372549019, 0.8847058823529411, 0.9372549019607843, 1.0],\n",
       " [0.7617070357554787, 0.7648135332564399, 0.8749711649365629, 1.0],\n",
       " [0.617762399077278, 0.6021376393694733, 0.7834525182622069, 1.0],\n",
       " [0.48402921953094963, 0.4543329488658208, 0.7106651287966167, 1.0],\n",
       " [0.3811764705882353, 0.25176470588235295, 0.6078431372549019, 1.0]]"
      ]
     },
     "execution_count": 99,
     "metadata": {},
     "output_type": "execute_result"
    }
   ],
   "source": [
    "cmaps = [\n",
    "       plt.colormaps[\"Greys\"],\n",
    "       plt.colormaps[\"Oranges\"],\n",
    "       plt.colormaps[\"Greens\"],\n",
    "       plt.colormaps[\"Blues\"],\n",
    "       plt.colormaps[\"Purples\"]\n",
    "]\n",
    "\n",
    "folder_cvals = [np.linspace(0.2,0.8,len(folder)).tolist() for folder in pickle_filenames.values()]\n",
    "cmap12 = [cm(cval) for cm, cval in zip(cmaps, folder_cvals)]\n",
    "\n",
    "x = []\n",
    "for l in [cml.tolist() for cml in cmap12]:\n",
    "       for a in l:\n",
    "              x.append(a)\n",
    "\n",
    "x"
   ]
  },
  {
   "cell_type": "code",
   "execution_count": 121,
   "metadata": {},
   "outputs": [
    {
     "data": {
      "image/png": "[encoded data removed]",
      "text/plain": [
       "<Figure size 360x360 with 1 Axes>"
      ]
     },
     "metadata": {},
     "output_type": "display_data"
    }
   ],
   "source": [
    "fig, ax = plt.subplots()\n",
    "fig.set_size_inches(5,5)\n",
    "\n",
    "size = 0.3\n",
    "vals = np.array([60., 32., 40., 50., 20., 37., 40., 29., 10., 20.])\n",
    "inner_vals = size_df.loc['excel_file_size'].to_numpy()\n",
    "outer_vals = total_size_df.loc['excel_file_size'].to_numpy()\n",
    "\n",
    "# inner_vals = vals.flatten()\n",
    "# outer_vals = np.array([202., 77., 39., 20.])\n",
    "cmaps = [\n",
    "       plt.colormaps[\"Greys\"],\n",
    "       plt.colormaps[\"Oranges\"],\n",
    "       plt.colormaps[\"Greens\"],\n",
    "       plt.colormaps[\"Blues\"],\n",
    "       plt.colormaps[\"Purples\"]\n",
    "]\n",
    "folder_cvals = [np.linspace(0.5,0.8,len(folder)).tolist() for folder in pickle_filenames.values()]\n",
    "cmap12 = [cm(cval) for cm, cval in zip(cmaps, folder_cvals)]\n",
    "\n",
    "x = []\n",
    "for l in [cml.tolist() for cml in cmap12]:\n",
    "       for a in l:\n",
    "              x.append(a)\n",
    "\n",
    "x\n",
    "outer_colors = np.array([cm(0.8) for cm in cmaps])\n",
    "# inner_colors = [np.linspace(0.2,0.8,len(folder)).tolist() for folder in pickle_filenames.values()]\n",
    "inner_colors = x\n",
    "\n",
    "ax.pie(outer_vals, radius=1, colors=outer_colors,\n",
    "       wedgeprops=dict(width=size, edgecolor='w'), labels=excel_filenames.keys(), labeldistance=None)\n",
    "\n",
    "ax.pie(inner_vals, radius=1-size, colors=inner_colors,\n",
    "       wedgeprops=dict(width=size, edgecolor='w'))\n",
    "\n",
    "ax.set(aspect=\"equal\", title='Relative size of files and subfiles')\n",
    "plt.legend(loc='right', bbox_to_anchor=(1.4,0.5))\n",
    "plt.show()"
   ]
  },
  {
   "cell_type": "markdown",
   "metadata": {},
   "source": [
    "## ./people"
   ]
  },
  {
   "cell_type": "code",
   "execution_count": 59,
   "metadata": {},
   "outputs": [],
   "source": [
    "people_path = path_to_provided_data + \"/people\"\n",
    "\n",
    "people_raw = {filename: pd.read_excel(people_path + \"/\" + filename + \".xlsx\") for filename in excel_filenames[\"people\"]}"
   ]
  },
  {
   "cell_type": "code",
   "execution_count": 111,
   "metadata": {},
   "outputs": [
    {
     "name": "stdout",
     "output_type": "stream",
     "text": [
      "people_raw[people_affiliation]\t->\traw_people_affiliation.pickle\n",
      "people_raw[People_education]\t->\traw_people_education.pickle\n",
      "people_raw[people_overview]\t->\traw_people_overview.pickle\n",
      "people_raw[people_subject_areas]\t->\traw_people_subject_areas.pickle\n"
     ]
    }
   ],
   "source": [
    "new_people_path = path_to_pickled_data + \"/people\"\n",
    "\n",
    "for (excelfile, df), picklefile in zip(people_raw.items(), pickle_filenames['people']):\n",
    "    filepath = f\"{new_people_path}/raw_{picklefile}.pickle\"\n",
    "    df.to_pickle(filepath)\n",
    "\n",
    "    print(f\"people_raw[{excelfile}]\\t->\\traw_{picklefile}.pickle\")"
   ]
  },
  {
   "cell_type": "code",
   "execution_count": 115,
   "metadata": {},
   "outputs": [],
   "source": [
    "people_pickle = {picklename: pd.read_pickle(new_people_path + \"/raw_\" + picklename + \".pickle\") for picklename in pickle_filenames['people']}"
   ]
  },
  {
   "cell_type": "markdown",
   "metadata": {},
   "source": [
    "read_excel() time: 15.4s  \n",
    "read_pickle() time: 0.2s"
   ]
  },
  {
   "cell_type": "markdown",
   "metadata": {},
   "source": [
    "## ./courses"
   ]
  },
  {
   "cell_type": "code",
   "execution_count": 100,
   "metadata": {},
   "outputs": [],
   "source": [
    "courses_path = path_to_provided_data + \"/courses\"\n",
    "\n",
    "courses_raw = {filename: pd.read_excel(courses_path + \"/\" + filename + \".xlsx\") for filename in excel_filenames[\"courses\"]}"
   ]
  },
  {
   "cell_type": "code",
   "execution_count": 117,
   "metadata": {},
   "outputs": [
    {
     "name": "stdout",
     "output_type": "stream",
     "text": [
      "courses_raw[Course_overview]\t->\traw_course_overview.pickle\n"
     ]
    }
   ],
   "source": [
    "new_courses_path = path_to_pickled_data + \"/courses\"\n",
    "\n",
    "for (excelfile, df), picklefile in zip(courses_raw.items(), pickle_filenames['courses']):\n",
    "    filepath = f\"{new_courses_path}/raw_{picklefile}.pickle\"\n",
    "    df.to_pickle(filepath)\n",
    "\n",
    "    print(f\"courses_raw[{excelfile}]\\t->\\traw_{picklefile}.pickle\")"
   ]
  },
  {
   "cell_type": "code",
   "execution_count": 116,
   "metadata": {},
   "outputs": [],
   "source": [
    "courses_pickle = {picklename: pd.read_pickle(new_courses_path + \"/raw_\" + picklename + \".pickle\") for picklename in pickle_filenames['courses']}"
   ]
  },
  {
   "cell_type": "markdown",
   "metadata": {},
   "source": [
    "read_excel() time: 65.5s  \n",
    "read_pickle() time: 0.2s"
   ]
  },
  {
   "cell_type": "markdown",
   "metadata": {},
   "source": [
    "## ./grant_award"
   ]
  },
  {
   "cell_type": "code",
   "execution_count": 9,
   "metadata": {},
   "outputs": [],
   "source": [
    "grants_path = path_to_provided_data + \"/grant_award\"\n",
    "\n",
    "grants_raw = {filename: pd.read_excel(grants_path + \"/\" + filename + \".xlsx\") for filename in excel_filenames[\"grant_award\"]}"
   ]
  },
  {
   "cell_type": "code",
   "execution_count": 10,
   "metadata": {},
   "outputs": [
    {
     "name": "stdout",
     "output_type": "stream",
     "text": [
      "grants_raw[Award_overview]\t->\traw_awards_overview.pickle\n",
      "grants_raw[Grant_abstract]\t->\traw_grants_abstract.pickle\n",
      "grants_raw[Grant_overview]\t->\traw_grants_overview.pickle\n"
     ]
    }
   ],
   "source": [
    "new_grants_path = path_to_pickled_data + \"/grants_and_awards\"\n",
    "\n",
    "for (excelfile, df), picklefile in zip(grants_raw.items(), pickle_filenames['grants_and_awards']):\n",
    "    filepath = f\"{new_grants_path}/raw_{picklefile}.pickle\"\n",
    "    df.to_pickle(filepath)\n",
    "\n",
    "    print(f\"grants_raw[{excelfile}]\\t->\\traw_{picklefile}.pickle\")"
   ]
  },
  {
   "cell_type": "code",
   "execution_count": 11,
   "metadata": {},
   "outputs": [],
   "source": [
    "grants_pickle = {picklename: pd.read_pickle(new_grants_path + \"/raw_\" + picklename + \".pickle\") for picklename in pickle_filenames['grants_and_awards']}"
   ]
  },
  {
   "cell_type": "markdown",
   "metadata": {},
   "source": [
    "read_excel() time: 14.5s  \n",
    "read_pickle() time: 0.7s"
   ]
  },
  {
   "cell_type": "markdown",
   "metadata": {},
   "source": [
    "## ./organizations"
   ]
  },
  {
   "cell_type": "code",
   "execution_count": 122,
   "metadata": {},
   "outputs": [],
   "source": [
    "orgs_path = path_to_provided_data + \"/organizations\"\n",
    "\n",
    "orgs_raw = {filename: pd.read_excel(orgs_path + \"/\" + filename + \".xlsx\") for filename in excel_filenames[\"organizations\"]}"
   ]
  },
  {
   "cell_type": "code",
   "execution_count": 123,
   "metadata": {},
   "outputs": [
    {
     "name": "stdout",
     "output_type": "stream",
     "text": [
      "orgs_raw[organization_external]\t->\traw_organizations_external.pickle\n",
      "orgs_raw[organization_local]\t->\traw_organizations_local.pickle\n"
     ]
    }
   ],
   "source": [
    "new_orgs_path = path_to_pickled_data + \"/organizations\"\n",
    "\n",
    "for (excelfile, df), picklefile in zip(orgs_raw.items(), pickle_filenames['organizations']):\n",
    "    filepath = f\"{new_orgs_path}/raw_{picklefile}.pickle\"\n",
    "    df.to_pickle(filepath)\n",
    "\n",
    "    print(f\"orgs_raw[{excelfile}]\\t->\\traw_{picklefile}.pickle\")"
   ]
  },
  {
   "cell_type": "code",
   "execution_count": 125,
   "metadata": {},
   "outputs": [],
   "source": [
    "orgs_pickle = {picklename: pd.read_pickle(new_orgs_path + \"/raw_\" + picklename + \".pickle\") for picklename in pickle_filenames['organizations']}"
   ]
  },
  {
   "cell_type": "markdown",
   "metadata": {},
   "source": [
    "read_excel() time: 117.5s  \n",
    "read_pickle() time: 0.3s"
   ]
  },
  {
   "cell_type": "markdown",
   "metadata": {},
   "source": [
    "## ./publications"
   ]
  },
  {
   "cell_type": "code",
   "execution_count": 127,
   "metadata": {},
   "outputs": [],
   "source": [
    "pubs_path = path_to_provided_data + \"/publications\"\n",
    "\n",
    "pubs_raw = {filename: pd.read_excel(pubs_path + \"/\" + filename + \".xlsx\") for filename in excel_filenames[\"publications\"]}"
   ]
  },
  {
   "cell_type": "code",
   "execution_count": 128,
   "metadata": {},
   "outputs": [
    {
     "name": "stdout",
     "output_type": "stream",
     "text": [
      "pubs_raw[Pub_abstract]\t->\traw_publications_abstract.pickle\n",
      "pubs_raw[Pub_author_institutions]\t->\traw_publications_author_institutions.pickle\n",
      "pubs_raw[Pub_overview]\t->\traw_publications_overview.pickle\n",
      "pubs_raw[Pub_subject_journal_wos]\t->\traw_publications_subject_journal_wos.pickle\n",
      "pubs_raw[Pub_unsdg]\t->\traw_publications_unsdg.pickle\n"
     ]
    }
   ],
   "source": [
    "new_pubs_path = path_to_pickled_data + \"/publications\"\n",
    "\n",
    "for (excelfile, df), picklefile in zip(pubs_raw.items(), pickle_filenames['publications']):\n",
    "    filepath = f\"{new_pubs_path}/raw_{picklefile}.pickle\"\n",
    "    df.to_pickle(filepath)\n",
    "\n",
    "    print(f\"pubs_raw[{excelfile}]\\t->\\traw_{picklefile}.pickle\")"
   ]
  },
  {
   "cell_type": "code",
   "execution_count": 132,
   "metadata": {},
   "outputs": [],
   "source": [
    "people_pickle = {picklename: pd.read_pickle(new_people_path + \"/raw_\" + picklename + \".pickle\") for picklename in pickle_filenames['people']}"
   ]
  },
  {
   "cell_type": "markdown",
   "metadata": {},
   "source": [
    "read_excel() time: 1364.2s  \n",
    "read_pickle() time: 0.4s"
   ]
  }
 ],
 "metadata": {
  "interpreter": {
   "hash": "08d0539260069d16647a15bda43b9d2b76357daee9ecd5899972fb55ddf4875b"
  },
  "kernelspec": {
   "display_name": "Python 3.10.2 ('tamids')",
   "language": "python",
   "name": "python3"
  },
  "language_info": {
   "codemirror_mode": {
    "name": "ipython",
    "version": 3
   },
   "file_extension": ".py",
   "mimetype": "text/x-python",
   "name": "python",
   "nbconvert_exporter": "python",
   "pygments_lexer": "ipython3",
   "version": "3.10.2"
  },
  "orig_nbformat": 4
 },
 "nbformat": 4,
 "nbformat_minor": 2
}
