{
 "cells": [
  {
   "cell_type": "code",
   "execution_count": 1,
   "metadata": {},
   "outputs": [],
   "source": [
    "from IPython.display import Markdown, display, HTML\n",
    "import matplotlib.pyplot as plt\n",
    "import numpy as np\n",
    "import pandas as pd\n",
    "import seaborn as sns\n",
    "\n",
    "pd.options.display.float_format = '{:,.3f}'.format\n",
    "pd.options.styler.format.precision = 2\n",
    "pd.options.styler.format.thousands = ','\n",
    "pd.options.display.max_columns = 50\n",
    "plt.style.use('seaborn-darkgrid')\n",
    "\n",
    "# General Markdown Formatting Functions\n",
    "\n",
    "def printmd(string, level=1):\n",
    "    header_level = '#'*level + ' '\n",
    "    display(Markdown(header_level + string))"
   ]
  },
  {
   "cell_type": "code",
   "execution_count": 14,
   "metadata": {},
   "outputs": [],
   "source": [
    "base_path = \"../../Provided Resources/2022 Student Data Science Competition_TAMIDS/Scholars@TAMU Data\"\n",
    "people_path = base_path + \"/people\"\n",
    "\n",
    "people_raw = {\n",
    "    \"affiliation\": pd.read_excel(people_path + \"/people_affiliation.xlsx\", sheet_name = 0),\n",
    "    \"education\": pd.read_excel(people_path + \"/People_education.xlsx\", sheet_name = 0),\n",
    "    \"overview\": pd.read_excel(people_path + \"/people_overview.xlsx\", sheet_name = 0),\n",
    "    \"subject_areas\": pd.read_excel(people_path + \"/people_subject_areas.xlsx\", sheet_name = 0)\n",
    "}"
   ]
  },
  {
   "cell_type": "code",
   "execution_count": 9,
   "metadata": {},
   "outputs": [],
   "source": [
    "def count_types(df: pd.DataFrame, percentage=False, plot=False, show_table=False, color_map:str=False) -> pd.DataFrame:\n",
    "    new_df = pd.DataFrame()\n",
    "    for column in df:\n",
    "        new_df[column] = df[column].apply(lambda x: \"nan\" if pd.isna(x) else type(x).__name__)\n",
    "    new_df = new_df.apply(pd.value_counts)\n",
    "\n",
    "    if percentage:\n",
    "        new_df = new_df / new_df.sum() * 100\n",
    "\n",
    "    if plot:\n",
    "        new_df.T.plot.bar()\n",
    "        plt.yscale(\"log\")\n",
    "        plt.rcParams[\"figure.figsize\"]\n",
    "        plt.show()\n",
    "\n",
    "    if show_table:\n",
    "        if color_map:\n",
    "            cm = sns.light_palette(color_map, as_cmap=True)\n",
    "            color_df = new_df.style.background_gradient(cmap=cm, axis=None)\n",
    "            color_df = color_df.applymap(lambda x: 'color: transparent' if pd.isnull(x) else '')\n",
    "            color_df = color_df.applymap(lambda x: 'background-color: transparent' if pd.isnull(x) else '')\n",
    "            display(color_df)\n",
    "        else:\n",
    "            display(new_df)\n",
    "\n",
    "\n",
    "    return new_df"
   ]
  },
  {
   "cell_type": "code",
   "execution_count": 13,
   "metadata": {},
   "outputs": [],
   "source": [
    "def slice_unnamed_columns(df: pd.DataFrame):\n",
    "    return df.loc[:,~df.columns.str.contains('Unnamed:')]"
   ]
  },
  {
   "cell_type": "code",
   "execution_count": 27,
   "metadata": {},
   "outputs": [
    {
     "data": {
      "text/markdown": [
       "### affiliation"
      ],
      "text/plain": [
       "<IPython.core.display.Markdown object>"
      ]
     },
     "metadata": {},
     "output_type": "display_data"
    },
    {
     "data": {
      "text/plain": [
       "{'uid': 'str',\n",
       " 'uin': 'int',\n",
       " 'people_uri': 'str',\n",
       " 'people_api': 'str',\n",
       " 'position_dept_id': 'float'}"
      ]
     },
     "metadata": {},
     "output_type": "display_data"
    },
    {
     "data": {
      "text/markdown": [
       "### education"
      ],
      "text/plain": [
       "<IPython.core.display.Markdown object>"
      ]
     },
     "metadata": {},
     "output_type": "display_data"
    },
    {
     "data": {
      "text/plain": [
       "{'uid': 'str',\n",
       " 'uin': 'float',\n",
       " 'people_uri': 'str',\n",
       " 'people_api': 'str',\n",
       " 'external_org_id': 'float',\n",
       " 'granting_school_name': 'str',\n",
       " 'degreeuri_text': 'str',\n",
       " 'year': 'int',\n",
       " 'major': 'str'}"
      ]
     },
     "metadata": {},
     "output_type": "display_data"
    },
    {
     "data": {
      "text/markdown": [
       "### overview"
      ],
      "text/plain": [
       "<IPython.core.display.Markdown object>"
      ]
     },
     "metadata": {},
     "output_type": "display_data"
    },
    {
     "data": {
      "text/plain": [
       "{'uid': 'str',\n",
       " 'uin': 'int',\n",
       " 'people_uri': 'str',\n",
       " 'people_api': 'str',\n",
       " 'status': 'str',\n",
       " 'dept_id': 'float',\n",
       " 'lastname': 'str',\n",
       " 'middle': 'str',\n",
       " 'firstname': 'str',\n",
       " 'preferred_title': 'str',\n",
       " 'email': 'str',\n",
       " 'overview': 'nan'}"
      ]
     },
     "metadata": {},
     "output_type": "display_data"
    },
    {
     "data": {
      "text/markdown": [
       "### subject_areas"
      ],
      "text/plain": [
       "<IPython.core.display.Markdown object>"
      ]
     },
     "metadata": {},
     "output_type": "display_data"
    },
    {
     "data": {
      "text/plain": [
       "{'uid': 'str',\n",
       " 'uin': 'int',\n",
       " 'people_uri': 'str',\n",
       " 'people_api': 'str',\n",
       " 'research_areas': 'nan'}"
      ]
     },
     "metadata": {},
     "output_type": "display_data"
    }
   ],
   "source": [
    "people_sliced = {}\n",
    "\n",
    "for name, df in people_raw.items():\n",
    "    printmd(name, 3)\n",
    "    # print(type_dict)\n",
    "    sliced_df = count_types(slice_unnamed_columns(df))\n",
    "    people_sliced[name] = sliced_df\n",
    "    # count_types(df, show_table=True)\n",
    "    type_dict = {column: sliced_df[column].idxmax() for column in sliced_df}\n",
    "    display(type_dict)"
   ]
  }
 ],
 "metadata": {
  "interpreter": {
   "hash": "08d0539260069d16647a15bda43b9d2b76357daee9ecd5899972fb55ddf4875b"
  },
  "kernelspec": {
   "display_name": "Python 3.10.2 ('tamids')",
   "language": "python",
   "name": "python3"
  },
  "language_info": {
   "codemirror_mode": {
    "name": "ipython",
    "version": 3
   },
   "file_extension": ".py",
   "mimetype": "text/x-python",
   "name": "python",
   "nbconvert_exporter": "python",
   "pygments_lexer": "ipython3",
   "version": "3.10.2"
  },
  "orig_nbformat": 4
 },
 "nbformat": 4,
 "nbformat_minor": 2
}
