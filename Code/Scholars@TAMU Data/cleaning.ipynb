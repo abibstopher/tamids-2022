{
 "cells": [
  {
   "cell_type": "markdown",
   "metadata": {},
   "source": [
    "# Cleaning Scholars@TAMU Data  \n",
    "**Filename:** cleaning.ipynb  \n",
    "**Path:** TAMIDS/Code/Scholars@TAMU Data/cleaning.ipynb  \n",
    "**Created Date:** 02 April 2022, 20:07 \n",
    "\n",
    "The data provided in .xlsx format has some issues. It seems like wherever a comma occurs in these files, the columns get split up. Likely because these were originally .csv files delimmited by commas. Another issue is that some columns are interpreted by pandas as having multiple data types. This notebook should rectify these issues."
   ]
  },
  {
   "cell_type": "code",
   "execution_count": 123,
   "metadata": {},
   "outputs": [],
   "source": [
    "from IPython.display import Markdown, display, HTML\n",
    "import matplotlib.pyplot as plt\n",
    "import numpy as np\n",
    "import pandas as pd\n",
    "import json\n",
    "\n",
    "# pd.options.display.float_format = '{:,.3f}'.format\n",
    "pd.options.display.max_columns = 100\n",
    "plt.style.use('seaborn-darkgrid')\n",
    "\n",
    "# General Markdown Formatting Functions\n",
    "\n",
    "def printmd(string, level=1):\n",
    "    header_level = '#'*level + ' '\n",
    "    display(Markdown(header_level + string))"
   ]
  },
  {
   "cell_type": "markdown",
   "metadata": {},
   "source": [
    "## Scholars@TAMU"
   ]
  },
  {
   "cell_type": "code",
   "execution_count": 124,
   "metadata": {},
   "outputs": [
    {
     "name": "stdout",
     "output_type": "stream",
     "text": [
      "zsh:1: command not found: tree\n"
     ]
    }
   ],
   "source": [
    "base_path = \"../../Data/Scholars@TAMU\"\n",
    "\n",
    "!tree \"$base_path\""
   ]
  },
  {
   "cell_type": "code",
   "execution_count": 125,
   "metadata": {},
   "outputs": [],
   "source": [
    "with open('dicts/raw_filenames.json', 'r') as outfile:\n",
    "    raw_filenames = json.load(outfile)\n",
    "\n",
    "# make a .json file of the cleaned data filenames that is identical to the raw filenames\n",
    "data_filenames = raw_filenames\n",
    "\n",
    "with open('dicts/data_filenames.json', 'w') as outfile:\n",
    "    json.dump(data_filenames, outfile, indent=4)"
   ]
  },
  {
   "cell_type": "markdown",
   "metadata": {},
   "source": [
    "### Generally Helpful Functions"
   ]
  },
  {
   "cell_type": "code",
   "execution_count": 126,
   "metadata": {},
   "outputs": [],
   "source": [
    "def fix_trailing_columns(df: pd.DataFrame, last_column: str) -> pd.DataFrame:\n",
    "    \"\"\"The is a common problem of the last column of the DataFrames being split into multiple columns with the name 'Unnamed: ##'. \n",
    "    Every split represents where a comma should be, this function fixes that.\"\"\"\n",
    "    trailing_columns=df.copy()\n",
    "    abstract = trailing_columns[last_column].copy()\n",
    "\n",
    "    for column in trailing_columns.loc[:, last_column:]:\n",
    "        if column == last_column:\n",
    "            continue\n",
    "        \n",
    "        str_column = trailing_columns[column].apply(str)\n",
    "        str_column = ',' + str_column\n",
    "        str_column[str_column == ',nan'] = ''\n",
    "        abstract += str_column\n",
    "\n",
    "    df = df.loc[:, :last_column]\n",
    "    df[last_column] = abstract\n",
    "    return df\n",
    "\n",
    "def rows_of_type(df: pd.DataFrame, column_name: str, of_type: type) -> pd.DataFrame:\n",
    "    \"\"\"This function returns a dataframe that has cells in {column name} that are of type {of_type}.\"\"\"\n",
    "    return df[df[column_name].transform(type) == of_type]"
   ]
  },
  {
   "cell_type": "markdown",
   "metadata": {},
   "source": [
    "## ./people"
   ]
  },
  {
   "cell_type": "code",
   "execution_count": 127,
   "metadata": {},
   "outputs": [],
   "source": [
    "people_path = base_path + \"/people\"\n",
    "\n",
    "people_data = {picklename: pd.read_pickle(people_path + \"/raw_\" + picklename + \".pickle\") for picklename in raw_filenames['people']}"
   ]
  },
  {
   "cell_type": "markdown",
   "metadata": {},
   "source": [
    "### people_education\n",
    "\n",
    "In `df.['year']` each cell is a year of type `int`. Some cells have extra characters making them a string."
   ]
  },
  {
   "cell_type": "code",
   "execution_count": 128,
   "metadata": {},
   "outputs": [],
   "source": [
    "# I wrote the following function like this expecting for this to be a recurring problem\n",
    "def fix_int_with_letters(int_string: str, substring: str) -> int | str:\n",
    "    if substring in int_string:\n",
    "        int_string = int_string.replace(substring, '')\n",
    "        return int(int_string)\n",
    "    else:\n",
    "        return int_string\n",
    "\n",
    "def clean_education_year(cell: object) -> int | object:\n",
    "    if type(cell) == str:\n",
    "        cell = fix_int_with_letters(int_string=cell, substring='_x000D_')\n",
    "    return cell\n",
    " \n",
    "\n",
    "people_data['people_education']['year'] = people_data['people_education']['year'].apply(clean_education_year)\n",
    "\n",
    "# pandas likes to upcast `int` to `float`\n",
    "people_data['people_education']['year'] = people_data['people_education']['year'].astype('Int64')\n"
   ]
  },
  {
   "cell_type": "markdown",
   "metadata": {},
   "source": [
    "### people_overview\n",
    "\n",
    "In `df.['overview']` new columns get added for every comma in the string. These must be concatenated."
   ]
  },
  {
   "cell_type": "code",
   "execution_count": 129,
   "metadata": {},
   "outputs": [],
   "source": [
    "people_data['people_overview'] = fix_trailing_columns(df=people_data['people_overview'], last_column='overview')\n",
    "\n",
    "rows_of_type(df=people_data['people_overview'], column_name='uin', of_type=str)\n",
    "people_data['people_overview'] = people_data['people_overview'].drop(830)"
   ]
  },
  {
   "cell_type": "markdown",
   "metadata": {},
   "source": [
    "### .to_pickle"
   ]
  },
  {
   "cell_type": "code",
   "execution_count": 130,
   "metadata": {},
   "outputs": [
    {
     "name": "stdout",
     "output_type": "stream",
     "text": [
      "people_data[people_affiliation]\t->\t../../Data/Scholars@TAMU/people/people_affiliation.pickle\n",
      "people_data[people_education]\t->\t../../Data/Scholars@TAMU/people/people_education.pickle\n",
      "people_data[people_overview]\t->\t../../Data/Scholars@TAMU/people/people_overview.pickle\n",
      "people_data[people_subject_areas]\t->\t../../Data/Scholars@TAMU/people/people_subject_areas.pickle\n"
     ]
    }
   ],
   "source": [
    "for (key, df), picklefile in zip(people_data.items(), data_filenames['people']):\n",
    "    filepath = f\"{people_path}/{picklefile}.pickle\"\n",
    "    df.to_pickle(filepath)\n",
    "\n",
    "    print(f\"people_data[{key}]\\t->\\t{people_path}/{picklefile}.pickle\")"
   ]
  },
  {
   "cell_type": "markdown",
   "metadata": {},
   "source": [
    "## ./courses"
   ]
  },
  {
   "cell_type": "code",
   "execution_count": 131,
   "metadata": {},
   "outputs": [],
   "source": [
    "courses_path = base_path + \"/courses\"\n",
    "\n",
    "courses_data = {picklename: pd.read_pickle(courses_path + \"/raw_\" + picklename + \".pickle\") for picklename in raw_filenames['courses']}"
   ]
  },
  {
   "cell_type": "markdown",
   "metadata": {},
   "source": [
    "### course_overview"
   ]
  },
  {
   "cell_type": "code",
   "execution_count": 132,
   "metadata": {},
   "outputs": [
    {
     "data": {
      "text/markdown": [
       " Rows with an invalid `course_number`"
      ],
      "text/plain": [
       "<IPython.core.display.Markdown object>"
      ]
     },
     "metadata": {},
     "output_type": "display_data"
    },
    {
     "data": {
      "text/html": [
       "<div>\n",
       "<style scoped>\n",
       "    .dataframe tbody tr th:only-of-type {\n",
       "        vertical-align: middle;\n",
       "    }\n",
       "\n",
       "    .dataframe tbody tr th {\n",
       "        vertical-align: top;\n",
       "    }\n",
       "\n",
       "    .dataframe thead th {\n",
       "        text-align: right;\n",
       "    }\n",
       "</style>\n",
       "<table border=\"1\" class=\"dataframe\">\n",
       "  <thead>\n",
       "    <tr style=\"text-align: right;\">\n",
       "      <th></th>\n",
       "      <th>uid</th>\n",
       "      <th>uin</th>\n",
       "      <th>people_uri</th>\n",
       "      <th>people_api</th>\n",
       "      <th>course</th>\n",
       "      <th>course_name</th>\n",
       "      <th>acad_dept</th>\n",
       "      <th>year</th>\n",
       "    </tr>\n",
       "  </thead>\n",
       "  <tbody>\n",
       "    <tr>\n",
       "      <th>18409</th>\n",
       "      <td>6384021d9c07df50570362e5f602209f</td>\n",
       "      <td>602004217</td>\n",
       "      <td>https://scholars.library.tamu.edu/vivo/display...</td>\n",
       "      <td>https://api.library.tamu.edu/scholars-discover...</td>\n",
       "      <td>Immunology</td>\n",
       "      <td>6740</td>\n",
       "      <td>DDDS</td>\n",
       "      <td>2018</td>\n",
       "    </tr>\n",
       "  </tbody>\n",
       "</table>\n",
       "</div>"
      ],
      "text/plain": [
       "                                    uid        uin  \\\n",
       "18409  6384021d9c07df50570362e5f602209f  602004217   \n",
       "\n",
       "                                              people_uri  \\\n",
       "18409  https://scholars.library.tamu.edu/vivo/display...   \n",
       "\n",
       "                                              people_api      course  \\\n",
       "18409  https://api.library.tamu.edu/scholars-discover...  Immunology   \n",
       "\n",
       "      course_name acad_dept  year  \n",
       "18409        6740      DDDS  2018  "
      ]
     },
     "metadata": {},
     "output_type": "display_data"
    },
    {
     "data": {
      "text/markdown": [
       " Rows with a range of years (`[int]`) in the `year` column instead of each individual year (`int`)"
      ],
      "text/plain": [
       "<IPython.core.display.Markdown object>"
      ]
     },
     "metadata": {},
     "output_type": "display_data"
    },
    {
     "data": {
      "text/html": [
       "<div>\n",
       "<style scoped>\n",
       "    .dataframe tbody tr th:only-of-type {\n",
       "        vertical-align: middle;\n",
       "    }\n",
       "\n",
       "    .dataframe tbody tr th {\n",
       "        vertical-align: top;\n",
       "    }\n",
       "\n",
       "    .dataframe thead th {\n",
       "        text-align: right;\n",
       "    }\n",
       "</style>\n",
       "<table border=\"1\" class=\"dataframe\">\n",
       "  <thead>\n",
       "    <tr style=\"text-align: right;\">\n",
       "      <th></th>\n",
       "      <th>uid</th>\n",
       "      <th>uin</th>\n",
       "      <th>people_uri</th>\n",
       "      <th>people_api</th>\n",
       "      <th>course</th>\n",
       "      <th>course_name</th>\n",
       "      <th>acad_dept</th>\n",
       "      <th>year</th>\n",
       "    </tr>\n",
       "  </thead>\n",
       "  <tbody>\n",
       "    <tr>\n",
       "      <th>15947</th>\n",
       "      <td>a42c45f158cb4087da2810141b94e077</td>\n",
       "      <td>126005712</td>\n",
       "      <td>https://scholars.library.tamu.edu/vivo/display...</td>\n",
       "      <td>https://api.library.tamu.edu/scholars-discover...</td>\n",
       "      <td>MSCI601</td>\n",
       "      <td>Contem Top In Adv Cell Bio I</td>\n",
       "      <td>CLMD</td>\n",
       "      <td>2016 2017</td>\n",
       "    </tr>\n",
       "    <tr>\n",
       "      <th>19494</th>\n",
       "      <td>594e832eaacbca290af050d732e893fa</td>\n",
       "      <td>618009393</td>\n",
       "      <td>https://scholars.library.tamu.edu/vivo/display...</td>\n",
       "      <td>https://api.library.tamu.edu/scholars-discover...</td>\n",
       "      <td>PHAR726</td>\n",
       "      <td>Microbiology/immunology</td>\n",
       "      <td>CLCP</td>\n",
       "      <td>2008-2019</td>\n",
       "    </tr>\n",
       "    <tr>\n",
       "      <th>19495</th>\n",
       "      <td>594e832eaacbca290af050d732e893fa</td>\n",
       "      <td>618009393</td>\n",
       "      <td>https://scholars.library.tamu.edu/vivo/display...</td>\n",
       "      <td>https://api.library.tamu.edu/scholars-discover...</td>\n",
       "      <td>PHAR811</td>\n",
       "      <td>Crtcl Care, Gi, Pulm, Rheum,</td>\n",
       "      <td>CLCP</td>\n",
       "      <td>2016-2019</td>\n",
       "    </tr>\n",
       "    <tr>\n",
       "      <th>20672</th>\n",
       "      <td>69e129774b67b31ed1b01ad8340d8734</td>\n",
       "      <td>821002114</td>\n",
       "      <td>https://scholars.library.tamu.edu/vivo/display...</td>\n",
       "      <td>https://api.library.tamu.edu/scholars-discover...</td>\n",
       "      <td>PHAR842</td>\n",
       "      <td>Patient Assessment</td>\n",
       "      <td>CLCP</td>\n",
       "      <td>2016 2017</td>\n",
       "    </tr>\n",
       "    <tr>\n",
       "      <th>21117</th>\n",
       "      <td>ebcae5bf949310d335e3324c64d808c5</td>\n",
       "      <td>420002948</td>\n",
       "      <td>https://scholars.library.tamu.edu/vivo/display...</td>\n",
       "      <td>https://api.library.tamu.edu/scholars-discover...</td>\n",
       "      <td>GENE608</td>\n",
       "      <td>Crit Analysis Gene Lit</td>\n",
       "      <td>BCBP</td>\n",
       "      <td>2015-2019</td>\n",
       "    </tr>\n",
       "  </tbody>\n",
       "</table>\n",
       "</div>"
      ],
      "text/plain": [
       "                                    uid        uin  \\\n",
       "15947  a42c45f158cb4087da2810141b94e077  126005712   \n",
       "19494  594e832eaacbca290af050d732e893fa  618009393   \n",
       "19495  594e832eaacbca290af050d732e893fa  618009393   \n",
       "20672  69e129774b67b31ed1b01ad8340d8734  821002114   \n",
       "21117  ebcae5bf949310d335e3324c64d808c5  420002948   \n",
       "\n",
       "                                              people_uri  \\\n",
       "15947  https://scholars.library.tamu.edu/vivo/display...   \n",
       "19494  https://scholars.library.tamu.edu/vivo/display...   \n",
       "19495  https://scholars.library.tamu.edu/vivo/display...   \n",
       "20672  https://scholars.library.tamu.edu/vivo/display...   \n",
       "21117  https://scholars.library.tamu.edu/vivo/display...   \n",
       "\n",
       "                                              people_api   course  \\\n",
       "15947  https://api.library.tamu.edu/scholars-discover...  MSCI601   \n",
       "19494  https://api.library.tamu.edu/scholars-discover...  PHAR726   \n",
       "19495  https://api.library.tamu.edu/scholars-discover...  PHAR811   \n",
       "20672  https://api.library.tamu.edu/scholars-discover...  PHAR842   \n",
       "21117  https://api.library.tamu.edu/scholars-discover...  GENE608   \n",
       "\n",
       "                        course_name acad_dept       year  \n",
       "15947  Contem Top In Adv Cell Bio I      CLMD  2016 2017  \n",
       "19494       Microbiology/immunology      CLCP  2008-2019  \n",
       "19495  Crtcl Care, Gi, Pulm, Rheum,      CLCP  2016-2019  \n",
       "20672            Patient Assessment      CLCP  2016 2017  \n",
       "21117        Crit Analysis Gene Lit      BCBP  2015-2019  "
      ]
     },
     "metadata": {},
     "output_type": "display_data"
    }
   ],
   "source": [
    "printmd('Rows with an invalid `course_number`', 0)\n",
    "display(rows_of_type(df=courses_data['course_overview'], column_name='course_name', of_type=int))\n",
    "# row [18409] was dropped because 'Immunology 6740' is not a valid class code for TAMU\n",
    "courses_data['course_overview'] = courses_data['course_overview'].drop(18409)\n",
    "\n",
    "printmd('Rows with a range of years (`[int]`) in the `year` column instead of each individual year (`int`)', 0)\n",
    "display(rows_of_type(df=courses_data['course_overview'], column_name='year', of_type=str))\n",
    "\n",
    "year_range_df = rows_of_type(df=courses_data['course_overview'], column_name='year', of_type=str)\n",
    "\n",
    "# this dictionary wasn't automated because it wasn't needed for this size\n",
    "year_ranges = {\n",
    "    '15947': (2016, 2017),\n",
    "    '19494': (2008, 2019),\n",
    "    '19495': (2016, 2019),\n",
    "    '20672': (2016, 2017),\n",
    "    '21117': (2015, 2019)\n",
    "}\n",
    "\n",
    "for k, v in year_ranges.items():\n",
    "    base_row = courses_data['course_overview'].iloc[int(k)].copy()\n",
    "    for year in range(v[0], v[1] + 1):\n",
    "        base_row['year'] = year\n",
    "        courses_data['course_overview'].loc[courses_data['course_overview'].shape[0]] = base_row\n",
    "\n",
    "for k, v in year_ranges.items():\n",
    "    courses_data['course_overview'].drop(int(k), inplace=True)"
   ]
  },
  {
   "cell_type": "code",
   "execution_count": 133,
   "metadata": {},
   "outputs": [
    {
     "name": "stdout",
     "output_type": "stream",
     "text": [
      "courses_data[course_overview]\t->\t../../Data/Scholars@TAMU/courses/course_overview.pickle\n"
     ]
    }
   ],
   "source": [
    "for (key, df), picklefile in zip(courses_data.items(), data_filenames['courses']):\n",
    "    filepath = f\"{courses_path}/{picklefile}.pickle\"\n",
    "    df.to_pickle(filepath)\n",
    "\n",
    "    print(f\"courses_data[{key}]\\t->\\t{courses_path}/{picklefile}.pickle\")"
   ]
  },
  {
   "cell_type": "markdown",
   "metadata": {},
   "source": [
    "## ./grants_and_awards"
   ]
  },
  {
   "cell_type": "code",
   "execution_count": 134,
   "metadata": {},
   "outputs": [],
   "source": [
    "grants_path = base_path + \"/grants_and_awards\"\n",
    "\n",
    "grants_data = {picklename: pd.read_pickle(grants_path + \"/raw_\" + picklename + \".pickle\") for picklename in raw_filenames['grants_and_awards']}"
   ]
  },
  {
   "cell_type": "markdown",
   "metadata": {},
   "source": [
    "### awards_overview"
   ]
  },
  {
   "cell_type": "code",
   "execution_count": 135,
   "metadata": {},
   "outputs": [
    {
     "data": {
      "text/markdown": [
       " The following three rows have weird data in these columns, so they will be dropped."
      ],
      "text/plain": [
       "<IPython.core.display.Markdown object>"
      ]
     },
     "metadata": {},
     "output_type": "display_data"
    },
    {
     "data": {
      "text/html": [
       "<div>\n",
       "<style scoped>\n",
       "    .dataframe tbody tr th:only-of-type {\n",
       "        vertical-align: middle;\n",
       "    }\n",
       "\n",
       "    .dataframe tbody tr th {\n",
       "        vertical-align: top;\n",
       "    }\n",
       "\n",
       "    .dataframe thead th {\n",
       "        text-align: right;\n",
       "    }\n",
       "</style>\n",
       "<table border=\"1\" class=\"dataframe\">\n",
       "  <thead>\n",
       "    <tr style=\"text-align: right;\">\n",
       "      <th></th>\n",
       "      <th>uid</th>\n",
       "      <th>uin</th>\n",
       "      <th>people_uri</th>\n",
       "      <th>people_api</th>\n",
       "      <th>award_id</th>\n",
       "      <th>year</th>\n",
       "      <th>award_name</th>\n",
       "      <th>authoritative_name_id</th>\n",
       "    </tr>\n",
       "  </thead>\n",
       "  <tbody>\n",
       "    <tr>\n",
       "      <th>8373</th>\n",
       "      <td>0</td>\n",
       "      <td>texas_target_communities</td>\n",
       "      <td>https://scholars.library.tamu.edu/vivo/display...</td>\n",
       "      <td>https://api.library.tamu.edu/scholars-discover...</td>\n",
       "      <td>NaN</td>\n",
       "      <td>NaN</td>\n",
       "      <td>NaN</td>\n",
       "      <td>NaN</td>\n",
       "    </tr>\n",
       "  </tbody>\n",
       "</table>\n",
       "</div>"
      ],
      "text/plain": [
       "     uid                       uin  \\\n",
       "8373   0  texas_target_communities   \n",
       "\n",
       "                                             people_uri  \\\n",
       "8373  https://scholars.library.tamu.edu/vivo/display...   \n",
       "\n",
       "                                             people_api  award_id  year  \\\n",
       "8373  https://api.library.tamu.edu/scholars-discover...       NaN   NaN   \n",
       "\n",
       "     award_name  authoritative_name_id  \n",
       "8373        NaN                    NaN  "
      ]
     },
     "metadata": {},
     "output_type": "display_data"
    },
    {
     "data": {
      "text/html": [
       "<div>\n",
       "<style scoped>\n",
       "    .dataframe tbody tr th:only-of-type {\n",
       "        vertical-align: middle;\n",
       "    }\n",
       "\n",
       "    .dataframe tbody tr th {\n",
       "        vertical-align: top;\n",
       "    }\n",
       "\n",
       "    .dataframe thead th {\n",
       "        text-align: right;\n",
       "    }\n",
       "</style>\n",
       "<table border=\"1\" class=\"dataframe\">\n",
       "  <thead>\n",
       "    <tr style=\"text-align: right;\">\n",
       "      <th></th>\n",
       "      <th>uid</th>\n",
       "      <th>uin</th>\n",
       "      <th>people_uri</th>\n",
       "      <th>people_api</th>\n",
       "      <th>award_id</th>\n",
       "      <th>year</th>\n",
       "      <th>award_name</th>\n",
       "      <th>authoritative_name_id</th>\n",
       "    </tr>\n",
       "  </thead>\n",
       "  <tbody>\n",
       "    <tr>\n",
       "      <th>8373</th>\n",
       "      <td>0</td>\n",
       "      <td>texas_target_communities</td>\n",
       "      <td>https://scholars.library.tamu.edu/vivo/display...</td>\n",
       "      <td>https://api.library.tamu.edu/scholars-discover...</td>\n",
       "      <td>NaN</td>\n",
       "      <td>NaN</td>\n",
       "      <td>NaN</td>\n",
       "      <td>NaN</td>\n",
       "    </tr>\n",
       "  </tbody>\n",
       "</table>\n",
       "</div>"
      ],
      "text/plain": [
       "     uid                       uin  \\\n",
       "8373   0  texas_target_communities   \n",
       "\n",
       "                                             people_uri  \\\n",
       "8373  https://scholars.library.tamu.edu/vivo/display...   \n",
       "\n",
       "                                             people_api  award_id  year  \\\n",
       "8373  https://api.library.tamu.edu/scholars-discover...       NaN   NaN   \n",
       "\n",
       "     award_name  authoritative_name_id  \n",
       "8373        NaN                    NaN  "
      ]
     },
     "metadata": {},
     "output_type": "display_data"
    },
    {
     "data": {
      "text/html": [
       "<div>\n",
       "<style scoped>\n",
       "    .dataframe tbody tr th:only-of-type {\n",
       "        vertical-align: middle;\n",
       "    }\n",
       "\n",
       "    .dataframe tbody tr th {\n",
       "        vertical-align: top;\n",
       "    }\n",
       "\n",
       "    .dataframe thead th {\n",
       "        text-align: right;\n",
       "    }\n",
       "</style>\n",
       "<table border=\"1\" class=\"dataframe\">\n",
       "  <thead>\n",
       "    <tr style=\"text-align: right;\">\n",
       "      <th></th>\n",
       "      <th>uid</th>\n",
       "      <th>uin</th>\n",
       "      <th>people_uri</th>\n",
       "      <th>people_api</th>\n",
       "      <th>award_id</th>\n",
       "      <th>year</th>\n",
       "      <th>award_name</th>\n",
       "      <th>authoritative_name_id</th>\n",
       "    </tr>\n",
       "  </thead>\n",
       "  <tbody>\n",
       "    <tr>\n",
       "      <th>3145</th>\n",
       "      <td>2254cbb076da3cffe94f12c8dd854f0a</td>\n",
       "      <td>202005361</td>\n",
       "      <td>https://scholars.library.tamu.edu/vivo/display...</td>\n",
       "      <td>https://api.library.tamu.edu/scholars-discover...</td>\n",
       "      <td>8865.0</td>\n",
       "      <td>2015.0</td>\n",
       "      <td>2014</td>\n",
       "      <td>31420.0</td>\n",
       "    </tr>\n",
       "  </tbody>\n",
       "</table>\n",
       "</div>"
      ],
      "text/plain": [
       "                                   uid        uin  \\\n",
       "3145  2254cbb076da3cffe94f12c8dd854f0a  202005361   \n",
       "\n",
       "                                             people_uri  \\\n",
       "3145  https://scholars.library.tamu.edu/vivo/display...   \n",
       "\n",
       "                                             people_api  award_id    year  \\\n",
       "3145  https://api.library.tamu.edu/scholars-discover...    8865.0  2015.0   \n",
       "\n",
       "     award_name  authoritative_name_id  \n",
       "3145       2014                31420.0  "
      ]
     },
     "metadata": {},
     "output_type": "display_data"
    }
   ],
   "source": [
    "printmd('The following three rows have weird data in these columns, so they will be dropped.', 0)\n",
    "display(rows_of_type(df=grants_data['awards_overview'], column_name='uid', of_type=int))\n",
    "display(rows_of_type(df=grants_data['awards_overview'], column_name='uin', of_type=str))\n",
    "grants_data['awards_overview'] = grants_data['awards_overview'].drop(8373)\n",
    "display(rows_of_type(df=grants_data['awards_overview'], column_name='award_name', of_type=int))\n",
    "grants_data['awards_overview'] = grants_data['awards_overview'].drop(3145)"
   ]
  },
  {
   "cell_type": "markdown",
   "metadata": {},
   "source": [
    "### grants_abstract"
   ]
  },
  {
   "cell_type": "code",
   "execution_count": 136,
   "metadata": {},
   "outputs": [
    {
     "name": "stderr",
     "output_type": "stream",
     "text": [
      "/var/folders/r3/xk4xn8d16wjf3qf3237rwz040000gn/T/ipykernel_4167/1832468470.py:17: SettingWithCopyWarning: \n",
      "A value is trying to be set on a copy of a slice from a DataFrame.\n",
      "Try using .loc[row_indexer,col_indexer] = value instead\n",
      "\n",
      "See the caveats in the documentation: https://pandas.pydata.org/pandas-docs/stable/user_guide/indexing.html#returning-a-view-versus-a-copy\n",
      "  df[last_column] = abstract\n"
     ]
    }
   ],
   "source": [
    "# display(grants_data['grants_abstract'])\n",
    "grants_data['grants_abstract'] = fix_trailing_columns(df=grants_data['grants_abstract'], last_column='abstract')"
   ]
  },
  {
   "cell_type": "markdown",
   "metadata": {},
   "source": [
    "### grants_overview"
   ]
  },
  {
   "cell_type": "code",
   "execution_count": 137,
   "metadata": {},
   "outputs": [],
   "source": [
    "grants_data['grants_overview']['grant_uid'] = grants_data['grants_overview']['grant_uid'].transform(str)\n",
    "\n",
    "grants_data['grants_overview'] = fix_trailing_columns(df=grants_data['grants_overview'], last_column='title')"
   ]
  },
  {
   "cell_type": "code",
   "execution_count": 138,
   "metadata": {},
   "outputs": [
    {
     "name": "stdout",
     "output_type": "stream",
     "text": [
      "grants_data[awards_overview]\t->\t../../Data/Scholars@TAMU/grants_and_awards/awards_overview.pickle\n",
      "grants_data[grants_abstract]\t->\t../../Data/Scholars@TAMU/grants_and_awards/grants_abstract.pickle\n",
      "grants_data[grants_overview]\t->\t../../Data/Scholars@TAMU/grants_and_awards/grants_overview.pickle\n"
     ]
    }
   ],
   "source": [
    "for (key, df), picklefile in zip(grants_data.items(), data_filenames['grants_and_awards']):\n",
    "    filepath = f\"{grants_path}/{picklefile}.pickle\"\n",
    "    df.to_pickle(filepath)\n",
    "\n",
    "    print(f\"grants_data[{key}]\\t->\\t{grants_path}/{picklefile}.pickle\")"
   ]
  },
  {
   "cell_type": "markdown",
   "metadata": {},
   "source": [
    "## ./organizations"
   ]
  },
  {
   "cell_type": "code",
   "execution_count": 139,
   "metadata": {},
   "outputs": [],
   "source": [
    "orgs_path = base_path + \"/organizations\"\n",
    "\n",
    "orgs_data = {picklename: pd.read_pickle(orgs_path + \"/raw_\" + picklename + \".pickle\") for picklename in raw_filenames['organizations']}"
   ]
  },
  {
   "cell_type": "markdown",
   "metadata": {},
   "source": [
    "### organizations_external"
   ]
  },
  {
   "cell_type": "code",
   "execution_count": 140,
   "metadata": {},
   "outputs": [
    {
     "data": {
      "text/html": [
       "<div>\n",
       "<style scoped>\n",
       "    .dataframe tbody tr th:only-of-type {\n",
       "        vertical-align: middle;\n",
       "    }\n",
       "\n",
       "    .dataframe tbody tr th {\n",
       "        vertical-align: top;\n",
       "    }\n",
       "\n",
       "    .dataframe thead th {\n",
       "        text-align: right;\n",
       "    }\n",
       "</style>\n",
       "<table border=\"1\" class=\"dataframe\">\n",
       "  <thead>\n",
       "    <tr style=\"text-align: right;\">\n",
       "      <th></th>\n",
       "      <th>external_org_id</th>\n",
       "      <th>external_org_uri</th>\n",
       "      <th>external_org_api</th>\n",
       "      <th>authoritative_name</th>\n",
       "      <th>authoritative_name_city</th>\n",
       "      <th>authoritative_name_state</th>\n",
       "      <th>authoritative_name_country</th>\n",
       "      <th>grid_id</th>\n",
       "      <th>aa_id</th>\n",
       "      <th>Unnamed: 9</th>\n",
       "    </tr>\n",
       "  </thead>\n",
       "  <tbody>\n",
       "    <tr>\n",
       "      <th>25524</th>\n",
       "      <td>25564</td>\n",
       "      <td>https://scholars.library.tamu.edu/vivo/display...</td>\n",
       "      <td>https://api.library.tamu.edu/scholars-discover...</td>\n",
       "      <td>Regional Public Health Care Institution City H...</td>\n",
       "      <td>Barnaul\"\"</td>\n",
       "      <td>Barnaul</td>\n",
       "      <td>NaN</td>\n",
       "      <td>Russia</td>\n",
       "      <td>grid.489152.3</td>\n",
       "      <td>NaN</td>\n",
       "    </tr>\n",
       "  </tbody>\n",
       "</table>\n",
       "</div>"
      ],
      "text/plain": [
       "       external_org_id                                   external_org_uri  \\\n",
       "25524            25564  https://scholars.library.tamu.edu/vivo/display...   \n",
       "\n",
       "                                        external_org_api  \\\n",
       "25524  https://api.library.tamu.edu/scholars-discover...   \n",
       "\n",
       "                                      authoritative_name  \\\n",
       "25524  Regional Public Health Care Institution City H...   \n",
       "\n",
       "      authoritative_name_city authoritative_name_state  \\\n",
       "25524               Barnaul\"\"                  Barnaul   \n",
       "\n",
       "      authoritative_name_country grid_id          aa_id  Unnamed: 9  \n",
       "25524                        NaN  Russia  grid.489152.3         NaN  "
      ]
     },
     "metadata": {},
     "output_type": "display_data"
    }
   ],
   "source": [
    "display(rows_of_type(df=orgs_data['organizations_external'], column_name='aa_id', of_type=str))\n",
    "orgs_data['organizations_external'] = orgs_data['organizations_external'].drop(25524)\n",
    "\n",
    "orgs_data['organizations_external'] = orgs_data['organizations_external'].drop(columns=['Unnamed: 9'])"
   ]
  },
  {
   "cell_type": "code",
   "execution_count": 141,
   "metadata": {},
   "outputs": [
    {
     "name": "stdout",
     "output_type": "stream",
     "text": [
      "orgs_data[organizations_external]\t->\t../../Data/Scholars@TAMU/organizations/organizations_external.pickle\n",
      "orgs_data[organizations_local]\t->\t../../Data/Scholars@TAMU/organizations/organizations_local.pickle\n"
     ]
    }
   ],
   "source": [
    "for (key, df), picklefile in zip(orgs_data.items(), data_filenames['organizations']):\n",
    "    filepath = f\"{orgs_path}/{picklefile}.pickle\"\n",
    "    df.to_pickle(filepath)\n",
    "\n",
    "    print(f\"orgs_data[{key}]\\t->\\t{orgs_path}/{picklefile}.pickle\")"
   ]
  },
  {
   "cell_type": "markdown",
   "metadata": {},
   "source": [
    "## ./publications"
   ]
  },
  {
   "cell_type": "code",
   "execution_count": 142,
   "metadata": {},
   "outputs": [],
   "source": [
    "pubs_path = base_path + \"/publications\"\n",
    "\n",
    "pubs_data = {picklename: pd.read_pickle(pubs_path + \"/raw_\" + picklename + \".pickle\") for picklename in raw_filenames['publications']}"
   ]
  },
  {
   "cell_type": "markdown",
   "metadata": {},
   "source": [
    "### publications_abstract"
   ]
  },
  {
   "cell_type": "code",
   "execution_count": 143,
   "metadata": {},
   "outputs": [
    {
     "name": "stderr",
     "output_type": "stream",
     "text": [
      "/var/folders/r3/xk4xn8d16wjf3qf3237rwz040000gn/T/ipykernel_4167/1832468470.py:17: SettingWithCopyWarning: \n",
      "A value is trying to be set on a copy of a slice from a DataFrame.\n",
      "Try using .loc[row_indexer,col_indexer] = value instead\n",
      "\n",
      "See the caveats in the documentation: https://pandas.pydata.org/pandas-docs/stable/user_guide/indexing.html#returning-a-view-versus-a-copy\n",
      "  df[last_column] = abstract\n"
     ]
    },
    {
     "data": {
      "text/html": [
       "<div>\n",
       "<style scoped>\n",
       "    .dataframe tbody tr th:only-of-type {\n",
       "        vertical-align: middle;\n",
       "    }\n",
       "\n",
       "    .dataframe tbody tr th {\n",
       "        vertical-align: top;\n",
       "    }\n",
       "\n",
       "    .dataframe thead th {\n",
       "        text-align: right;\n",
       "    }\n",
       "</style>\n",
       "<table border=\"1\" class=\"dataframe\">\n",
       "  <thead>\n",
       "    <tr style=\"text-align: right;\">\n",
       "      <th></th>\n",
       "      <th>publication_uri</th>\n",
       "      <th>publication_api</th>\n",
       "      <th>abstract</th>\n",
       "    </tr>\n",
       "  </thead>\n",
       "  <tbody>\n",
       "    <tr>\n",
       "      <th>0</th>\n",
       "      <td>https://scholars.library.tamu.edu/vivo/display...</td>\n",
       "      <td>https://api.library.tamu.edu/scholars-discover...</td>\n",
       "      <td>NaN</td>\n",
       "    </tr>\n",
       "    <tr>\n",
       "      <th>1</th>\n",
       "      <td>https://scholars.library.tamu.edu/vivo/display...</td>\n",
       "      <td>https://api.library.tamu.edu/scholars-discover...</td>\n",
       "      <td>BACKGROUND: Heart failure is a leading cause o...</td>\n",
       "    </tr>\n",
       "    <tr>\n",
       "      <th>2</th>\n",
       "      <td>https://scholars.library.tamu.edu/vivo/display...</td>\n",
       "      <td>https://api.library.tamu.edu/scholars-discover...</td>\n",
       "      <td>The renin-angiotensin system is a major determ...</td>\n",
       "    </tr>\n",
       "    <tr>\n",
       "      <th>3</th>\n",
       "      <td>https://scholars.library.tamu.edu/vivo/display...</td>\n",
       "      <td>https://api.library.tamu.edu/scholars-discover...</td>\n",
       "      <td>Â© CERN 2016. This paper describes the algorit...</td>\n",
       "    </tr>\n",
       "    <tr>\n",
       "      <th>4</th>\n",
       "      <td>https://scholars.library.tamu.edu/vivo/display...</td>\n",
       "      <td>https://api.library.tamu.edu/scholars-discover...</td>\n",
       "      <td>The peripheral benzodiazepine receptor (PBR) h...</td>\n",
       "    </tr>\n",
       "    <tr>\n",
       "      <th>...</th>\n",
       "      <td>...</td>\n",
       "      <td>...</td>\n",
       "      <td>...</td>\n",
       "    </tr>\n",
       "    <tr>\n",
       "      <th>223173</th>\n",
       "      <td>https://scholars.library.tamu.edu/vivo/display...</td>\n",
       "      <td>https://api.library.tamu.edu/scholars-discover...</td>\n",
       "      <td>Major histocompatibility complex (MHC) class I...</td>\n",
       "    </tr>\n",
       "    <tr>\n",
       "      <th>223174</th>\n",
       "      <td>https://scholars.library.tamu.edu/vivo/display...</td>\n",
       "      <td>https://api.library.tamu.edu/scholars-discover...</td>\n",
       "      <td>Cancer cells develop under immune surveillance...</td>\n",
       "    </tr>\n",
       "    <tr>\n",
       "      <th>223175</th>\n",
       "      <td>https://scholars.library.tamu.edu/vivo/display...</td>\n",
       "      <td>https://api.library.tamu.edu/scholars-discover...</td>\n",
       "      <td>NaN</td>\n",
       "    </tr>\n",
       "    <tr>\n",
       "      <th>223176</th>\n",
       "      <td>https://scholars.library.tamu.edu/vivo/display...</td>\n",
       "      <td>https://api.library.tamu.edu/scholars-discover...</td>\n",
       "      <td>OBJECTIVES: Interleukin-1 receptor-associated ...</td>\n",
       "    </tr>\n",
       "    <tr>\n",
       "      <th>223177</th>\n",
       "      <td>https://scholars.library.tamu.edu/vivo/display...</td>\n",
       "      <td>https://api.library.tamu.edu/scholars-discover...</td>\n",
       "      <td>Osteoporosis is a serious problem worldwide; i...</td>\n",
       "    </tr>\n",
       "  </tbody>\n",
       "</table>\n",
       "<p>223178 rows × 3 columns</p>\n",
       "</div>"
      ],
      "text/plain": [
       "                                          publication_uri  \\\n",
       "0       https://scholars.library.tamu.edu/vivo/display...   \n",
       "1       https://scholars.library.tamu.edu/vivo/display...   \n",
       "2       https://scholars.library.tamu.edu/vivo/display...   \n",
       "3       https://scholars.library.tamu.edu/vivo/display...   \n",
       "4       https://scholars.library.tamu.edu/vivo/display...   \n",
       "...                                                   ...   \n",
       "223173  https://scholars.library.tamu.edu/vivo/display...   \n",
       "223174  https://scholars.library.tamu.edu/vivo/display...   \n",
       "223175  https://scholars.library.tamu.edu/vivo/display...   \n",
       "223176  https://scholars.library.tamu.edu/vivo/display...   \n",
       "223177  https://scholars.library.tamu.edu/vivo/display...   \n",
       "\n",
       "                                          publication_api  \\\n",
       "0       https://api.library.tamu.edu/scholars-discover...   \n",
       "1       https://api.library.tamu.edu/scholars-discover...   \n",
       "2       https://api.library.tamu.edu/scholars-discover...   \n",
       "3       https://api.library.tamu.edu/scholars-discover...   \n",
       "4       https://api.library.tamu.edu/scholars-discover...   \n",
       "...                                                   ...   \n",
       "223173  https://api.library.tamu.edu/scholars-discover...   \n",
       "223174  https://api.library.tamu.edu/scholars-discover...   \n",
       "223175  https://api.library.tamu.edu/scholars-discover...   \n",
       "223176  https://api.library.tamu.edu/scholars-discover...   \n",
       "223177  https://api.library.tamu.edu/scholars-discover...   \n",
       "\n",
       "                                                 abstract  \n",
       "0                                                     NaN  \n",
       "1       BACKGROUND: Heart failure is a leading cause o...  \n",
       "2       The renin-angiotensin system is a major determ...  \n",
       "3       Â© CERN 2016. This paper describes the algorit...  \n",
       "4       The peripheral benzodiazepine receptor (PBR) h...  \n",
       "...                                                   ...  \n",
       "223173  Major histocompatibility complex (MHC) class I...  \n",
       "223174  Cancer cells develop under immune surveillance...  \n",
       "223175                                                NaN  \n",
       "223176  OBJECTIVES: Interleukin-1 receptor-associated ...  \n",
       "223177  Osteoporosis is a serious problem worldwide; i...  \n",
       "\n",
       "[223178 rows x 3 columns]"
      ]
     },
     "execution_count": 143,
     "metadata": {},
     "output_type": "execute_result"
    }
   ],
   "source": [
    "pubs_data['publications_abstract'] = fix_trailing_columns(df=pubs_data['publications_abstract'], last_column='abstract')\n",
    "pubs_data['publications_abstract']"
   ]
  },
  {
   "cell_type": "markdown",
   "metadata": {},
   "source": [
    "### publications_author_institutions\n",
    "\n",
    "In `df.['city']` there was a missing city name, with an `int` there instead."
   ]
  },
  {
   "cell_type": "code",
   "execution_count": 144,
   "metadata": {},
   "outputs": [
    {
     "data": {
      "text/html": [
       "<div>\n",
       "<style scoped>\n",
       "    .dataframe tbody tr th:only-of-type {\n",
       "        vertical-align: middle;\n",
       "    }\n",
       "\n",
       "    .dataframe tbody tr th {\n",
       "        vertical-align: top;\n",
       "    }\n",
       "\n",
       "    .dataframe thead th {\n",
       "        text-align: right;\n",
       "    }\n",
       "</style>\n",
       "<table border=\"1\" class=\"dataframe\">\n",
       "  <thead>\n",
       "    <tr style=\"text-align: right;\">\n",
       "      <th></th>\n",
       "      <th>publication_uri</th>\n",
       "      <th>publication_api</th>\n",
       "      <th>organisation</th>\n",
       "      <th>city</th>\n",
       "      <th>country</th>\n",
       "    </tr>\n",
       "  </thead>\n",
       "  <tbody>\n",
       "    <tr>\n",
       "      <th>481504</th>\n",
       "      <td>https://scholars.library.tamu.edu/vivo/display...</td>\n",
       "      <td>https://api.library.tamu.edu/scholars-discover...</td>\n",
       "      <td>Danmarks Tekniske Universitet</td>\n",
       "      <td>33</td>\n",
       "      <td>Denmark</td>\n",
       "    </tr>\n",
       "  </tbody>\n",
       "</table>\n",
       "</div>"
      ],
      "text/plain": [
       "                                          publication_uri  \\\n",
       "481504  https://scholars.library.tamu.edu/vivo/display...   \n",
       "\n",
       "                                          publication_api  \\\n",
       "481504  https://api.library.tamu.edu/scholars-discover...   \n",
       "\n",
       "                         organisation city  country  \n",
       "481504  Danmarks Tekniske Universitet   33  Denmark  "
      ]
     },
     "metadata": {},
     "output_type": "display_data"
    }
   ],
   "source": [
    "display(rows_of_type(df=pubs_data['publications_author_institutions'], column_name='city', of_type=int))\n",
    "pubs_data['publications_author_institutions']['city'].iloc[481504] = 'Kongens Lyngby'"
   ]
  },
  {
   "cell_type": "markdown",
   "metadata": {},
   "source": [
    "### publications_overview"
   ]
  },
  {
   "cell_type": "code",
   "execution_count": 145,
   "metadata": {},
   "outputs": [
    {
     "name": "stderr",
     "output_type": "stream",
     "text": [
      "/var/folders/r3/xk4xn8d16wjf3qf3237rwz040000gn/T/ipykernel_4167/239603840.py:2: SettingWithCopyWarning: \n",
      "A value is trying to be set on a copy of a slice from a DataFrame\n",
      "\n",
      "See the caveats in the documentation: https://pandas.pydata.org/pandas-docs/stable/user_guide/indexing.html#returning-a-view-versus-a-copy\n",
      "  pubs_data['publications_overview']['journal_title'].iloc[168590] = np.nan\n"
     ]
    },
    {
     "data": {
      "text/html": [
       "<div>\n",
       "<style scoped>\n",
       "    .dataframe tbody tr th:only-of-type {\n",
       "        vertical-align: middle;\n",
       "    }\n",
       "\n",
       "    .dataframe tbody tr th {\n",
       "        vertical-align: top;\n",
       "    }\n",
       "\n",
       "    .dataframe thead th {\n",
       "        text-align: right;\n",
       "    }\n",
       "</style>\n",
       "<table border=\"1\" class=\"dataframe\">\n",
       "  <thead>\n",
       "    <tr style=\"text-align: right;\">\n",
       "      <th></th>\n",
       "      <th>people_uid</th>\n",
       "      <th>uin</th>\n",
       "      <th>people_uri</th>\n",
       "      <th>people_api</th>\n",
       "      <th>dept_id</th>\n",
       "      <th>publication_uid</th>\n",
       "      <th>publication_uri</th>\n",
       "      <th>publication_api</th>\n",
       "      <th>doi</th>\n",
       "      <th>issn</th>\n",
       "      <th>eissn</th>\n",
       "      <th>journal_title</th>\n",
       "      <th>month</th>\n",
       "      <th>year</th>\n",
       "      <th>begin_page</th>\n",
       "      <th>end_page</th>\n",
       "      <th>volume</th>\n",
       "      <th>issue</th>\n",
       "      <th>publisher</th>\n",
       "      <th>publication_type</th>\n",
       "      <th>publication_title</th>\n",
       "      <th>Unnamed: 21</th>\n",
       "      <th>Unnamed: 22</th>\n",
       "      <th>Unnamed: 23</th>\n",
       "      <th>Unnamed: 24</th>\n",
       "      <th>Unnamed: 25</th>\n",
       "      <th>Unnamed: 26</th>\n",
       "      <th>Unnamed: 27</th>\n",
       "      <th>Unnamed: 28</th>\n",
       "      <th>Unnamed: 29</th>\n",
       "    </tr>\n",
       "  </thead>\n",
       "  <tbody>\n",
       "    <tr>\n",
       "      <th>13416</th>\n",
       "      <td>f0a2b3a8157beca6b160571989b7711e</td>\n",
       "      <td>901006572</td>\n",
       "      <td>https://scholars.library.tamu.edu/vivo/display...</td>\n",
       "      <td>https://api.library.tamu.edu/scholars-discover...</td>\n",
       "      <td>130</td>\n",
       "      <td>293378SE</td>\n",
       "      <td>https://scholars.library.tamu.edu/vivo/display...</td>\n",
       "      <td>https://api.library.tamu.edu/scholars-discover...</td>\n",
       "      <td>10.1201/9781420059922</td>\n",
       "      <td>NaN</td>\n",
       "      <td>NaN</td>\n",
       "      <td>Ch. 8 in L. H. Wang (Editor) Photoacoustic ima...</td>\n",
       "      <td>CRC Press 2009, pp. 89-101.</td>\n",
       "      <td>1</td>\n",
       "      <td>2017</td>\n",
       "      <td>89</td>\n",
       "      <td>101</td>\n",
       "      <td>NaN</td>\n",
       "      <td>NaN</td>\n",
       "      <td>NaN</td>\n",
       "      <td>Journal Article</td>\n",
       "      <td>On reconstruction formulas and algorithms for ...</td>\n",
       "      <td>NaN</td>\n",
       "      <td>NaN</td>\n",
       "      <td>NaN</td>\n",
       "      <td>NaN</td>\n",
       "      <td>NaN</td>\n",
       "      <td>NaN</td>\n",
       "      <td>NaN</td>\n",
       "      <td>NaN</td>\n",
       "    </tr>\n",
       "    <tr>\n",
       "      <th>45994</th>\n",
       "      <td>cb5632f793354548289b5d5fca835a2e</td>\n",
       "      <td>801007443</td>\n",
       "      <td>https://scholars.library.tamu.edu/vivo/display...</td>\n",
       "      <td>https://api.library.tamu.edu/scholars-discover...</td>\n",
       "      <td>87</td>\n",
       "      <td>225437SE</td>\n",
       "      <td>https://scholars.library.tamu.edu/vivo/display...</td>\n",
       "      <td>https://api.library.tamu.edu/scholars-discover...</td>\n",
       "      <td>10.1109/icpe.2011.5944373</td>\n",
       "      <td>2150-6078</td>\n",
       "      <td>NaN</td>\n",
       "      <td>8th International Conference on Power Electron...</td>\n",
       "      <td>ICPE 2011-ECCE Asia\"</td>\n",
       "      <td>5</td>\n",
       "      <td>2011</td>\n",
       "      <td>19</td>\n",
       "      <td>30</td>\n",
       "      <td>NaN</td>\n",
       "      <td>NaN</td>\n",
       "      <td>IEEE</td>\n",
       "      <td>Conference</td>\n",
       "      <td>Role of Power Electronics in Renewable Energy ...</td>\n",
       "      <td>NaN</td>\n",
       "      <td>NaN</td>\n",
       "      <td>NaN</td>\n",
       "      <td>NaN</td>\n",
       "      <td>NaN</td>\n",
       "      <td>NaN</td>\n",
       "      <td>NaN</td>\n",
       "      <td>NaN</td>\n",
       "    </tr>\n",
       "    <tr>\n",
       "      <th>91108</th>\n",
       "      <td>9a66941ac14f5b1d25d6ab9d66022fa6</td>\n",
       "      <td>226004448</td>\n",
       "      <td>https://scholars.library.tamu.edu/vivo/display...</td>\n",
       "      <td>https://api.library.tamu.edu/scholars-discover...</td>\n",
       "      <td>523</td>\n",
       "      <td>543627SE</td>\n",
       "      <td>https://scholars.library.tamu.edu/vivo/display...</td>\n",
       "      <td>https://api.library.tamu.edu/scholars-discover...</td>\n",
       "      <td>10.1109/wowmom.2019.8792986</td>\n",
       "      <td>NaN</td>\n",
       "      <td>NaN</td>\n",
       "      <td>2019 IEEE 20th International Symposium on A Wo...</td>\n",
       "      <td>Mobile and Multimedia Networks\" (WoWMoM)\"</td>\n",
       "      <td>6</td>\n",
       "      <td>2019</td>\n",
       "      <td>1</td>\n",
       "      <td>5</td>\n",
       "      <td>0</td>\n",
       "      <td>NaN</td>\n",
       "      <td>IEEE</td>\n",
       "      <td>Conference</td>\n",
       "      <td>IoT and the Risk of Internet Exposure: Risk As...</td>\n",
       "      <td>NaN</td>\n",
       "      <td>NaN</td>\n",
       "      <td>NaN</td>\n",
       "      <td>NaN</td>\n",
       "      <td>NaN</td>\n",
       "      <td>NaN</td>\n",
       "      <td>NaN</td>\n",
       "      <td>NaN</td>\n",
       "    </tr>\n",
       "    <tr>\n",
       "      <th>158313</th>\n",
       "      <td>4f21a8e72e56c869094a433251106c48</td>\n",
       "      <td>702001927</td>\n",
       "      <td>https://scholars.library.tamu.edu/vivo/display...</td>\n",
       "      <td>https://api.library.tamu.edu/scholars-discover...</td>\n",
       "      <td>87</td>\n",
       "      <td>401618SE</td>\n",
       "      <td>https://scholars.library.tamu.edu/vivo/display...</td>\n",
       "      <td>https://api.library.tamu.edu/scholars-discover...</td>\n",
       "      <td>10.1109/apt.1993.673899</td>\n",
       "      <td>NaN</td>\n",
       "      <td>NaN</td>\n",
       "      <td>Joint International Power Conference Athens Po...</td>\n",
       "      <td>Operation and Control in Today''s Electric Po...</td>\n",
       "      <td>APT 1993 - Proceedings\"</td>\n",
       "      <td>1</td>\n",
       "      <td>1993</td>\n",
       "      <td>771</td>\n",
       "      <td>775</td>\n",
       "      <td>2</td>\n",
       "      <td>NaN</td>\n",
       "      <td>IEEE</td>\n",
       "      <td>Conference</td>\n",
       "      <td>A New Approach For Reliability Evaluation Of I...</td>\n",
       "      <td>NaN</td>\n",
       "      <td>NaN</td>\n",
       "      <td>NaN</td>\n",
       "      <td>NaN</td>\n",
       "      <td>NaN</td>\n",
       "      <td>NaN</td>\n",
       "      <td>NaN</td>\n",
       "    </tr>\n",
       "  </tbody>\n",
       "</table>\n",
       "</div>"
      ],
      "text/plain": [
       "                              people_uid        uin  \\\n",
       "13416   f0a2b3a8157beca6b160571989b7711e  901006572   \n",
       "45994   cb5632f793354548289b5d5fca835a2e  801007443   \n",
       "91108   9a66941ac14f5b1d25d6ab9d66022fa6  226004448   \n",
       "158313  4f21a8e72e56c869094a433251106c48  702001927   \n",
       "\n",
       "                                               people_uri  \\\n",
       "13416   https://scholars.library.tamu.edu/vivo/display...   \n",
       "45994   https://scholars.library.tamu.edu/vivo/display...   \n",
       "91108   https://scholars.library.tamu.edu/vivo/display...   \n",
       "158313  https://scholars.library.tamu.edu/vivo/display...   \n",
       "\n",
       "                                               people_api  dept_id  \\\n",
       "13416   https://api.library.tamu.edu/scholars-discover...      130   \n",
       "45994   https://api.library.tamu.edu/scholars-discover...       87   \n",
       "91108   https://api.library.tamu.edu/scholars-discover...      523   \n",
       "158313  https://api.library.tamu.edu/scholars-discover...       87   \n",
       "\n",
       "       publication_uid                                    publication_uri  \\\n",
       "13416         293378SE  https://scholars.library.tamu.edu/vivo/display...   \n",
       "45994         225437SE  https://scholars.library.tamu.edu/vivo/display...   \n",
       "91108         543627SE  https://scholars.library.tamu.edu/vivo/display...   \n",
       "158313        401618SE  https://scholars.library.tamu.edu/vivo/display...   \n",
       "\n",
       "                                          publication_api  \\\n",
       "13416   https://api.library.tamu.edu/scholars-discover...   \n",
       "45994   https://api.library.tamu.edu/scholars-discover...   \n",
       "91108   https://api.library.tamu.edu/scholars-discover...   \n",
       "158313  https://api.library.tamu.edu/scholars-discover...   \n",
       "\n",
       "                                doi       issn eissn  \\\n",
       "13416         10.1201/9781420059922        NaN   NaN   \n",
       "45994     10.1109/icpe.2011.5944373  2150-6078   NaN   \n",
       "91108   10.1109/wowmom.2019.8792986        NaN   NaN   \n",
       "158313      10.1109/apt.1993.673899        NaN   NaN   \n",
       "\n",
       "                                            journal_title  \\\n",
       "13416   Ch. 8 in L. H. Wang (Editor) Photoacoustic ima...   \n",
       "45994   8th International Conference on Power Electron...   \n",
       "91108   2019 IEEE 20th International Symposium on A Wo...   \n",
       "158313  Joint International Power Conference Athens Po...   \n",
       "\n",
       "                                                    month  \\\n",
       "13416                         CRC Press 2009, pp. 89-101.   \n",
       "45994                                ICPE 2011-ECCE Asia\"   \n",
       "91108           Mobile and Multimedia Networks\" (WoWMoM)\"   \n",
       "158313   Operation and Control in Today''s Electric Po...   \n",
       "\n",
       "                            year begin_page end_page volume issue publisher  \\\n",
       "13416                          1       2017       89    101   NaN       NaN   \n",
       "45994                          5       2011       19     30   NaN       NaN   \n",
       "91108                          6       2019        1      5     0       NaN   \n",
       "158313   APT 1993 - Proceedings\"          1     1993    771   775         2   \n",
       "\n",
       "       publication_type publication_title  \\\n",
       "13416               NaN   Journal Article   \n",
       "45994              IEEE        Conference   \n",
       "91108              IEEE        Conference   \n",
       "158313              NaN              IEEE   \n",
       "\n",
       "                                              Unnamed: 21  \\\n",
       "13416   On reconstruction formulas and algorithms for ...   \n",
       "45994   Role of Power Electronics in Renewable Energy ...   \n",
       "91108   IoT and the Risk of Internet Exposure: Risk As...   \n",
       "158313                                         Conference   \n",
       "\n",
       "                                              Unnamed: 22 Unnamed: 23  \\\n",
       "13416                                                 NaN         NaN   \n",
       "45994                                                 NaN         NaN   \n",
       "91108                                                 NaN         NaN   \n",
       "158313  A New Approach For Reliability Evaluation Of I...         NaN   \n",
       "\n",
       "       Unnamed: 24 Unnamed: 25 Unnamed: 26 Unnamed: 27 Unnamed: 28 Unnamed: 29  \n",
       "13416          NaN         NaN         NaN         NaN         NaN         NaN  \n",
       "45994          NaN         NaN         NaN         NaN         NaN         NaN  \n",
       "91108          NaN         NaN         NaN         NaN         NaN         NaN  \n",
       "158313         NaN         NaN         NaN         NaN         NaN         NaN  "
      ]
     },
     "metadata": {},
     "output_type": "display_data"
    }
   ],
   "source": [
    "# display(rows_of_type(df=pubs_data['publications_overview'], column_name='journal_title', of_type=int))\n",
    "pubs_data['publications_overview']['journal_title'].iloc[168590] = np.nan\n",
    "\n",
    "display(rows_of_type(df=pubs_data['publications_overview'], column_name='month', of_type=str))\n",
    "\n",
    "shift_once_or_twice = [13416, 45994, 91108, 158313]\n",
    "\n",
    "for i in shift_once_or_twice:\n",
    "    row = pubs_data['publications_overview'].iloc[i].copy()\n",
    "    row = row.to_numpy()\n",
    "    if i == 158313:\n",
    "        c = 1\n",
    "    else:\n",
    "        c=0\n",
    "    row[11:13+c] = [','.join(row[11:13+c])]\n",
    "    row = np.delete(row, 12)\n",
    "    if i == 158313:\n",
    "        row = np.delete(row, 12)\n",
    "        row = np.append(row, np.nan)\n",
    "\n",
    "    pubs_data['publications_overview'].iloc[i] = np.append(row, np.nan)\n",
    "    # display(pubs_data['publications_overview'].iloc[i:i+1])\n",
    "\n",
    "\n",
    "\n",
    "#####\n",
    "pubs_data['publications_overview'][['begin_page', 'end_page', 'volume', 'issue']] = pubs_data['publications_overview'][['begin_page', 'end_page', 'volume', 'issue']].apply(str)\n",
    "\n",
    "# display(rows_of_type(df=pubs_data['publications_overview'], column_name='publication_type', of_type=float))\n",
    "invalid_titles = rows_of_type(df=pubs_data['publications_overview'], column_name='publication_title', of_type=int)\n",
    "pubs_data['publications_overview'] = pubs_data['publications_overview'].drop(invalid_titles.index)\n",
    "\n",
    "rows_of_type(df=pubs_data['publications_overview'], column_name='publication_title', of_type=int)\n",
    "pubs_data['publications_overview'] = fix_trailing_columns(df=pubs_data['publications_overview'], last_column='publication_title')"
   ]
  },
  {
   "cell_type": "code",
   "execution_count": 146,
   "metadata": {},
   "outputs": [
    {
     "name": "stdout",
     "output_type": "stream",
     "text": [
      "pubs_data[publications_abstract]\t->\t../../Data/Scholars@TAMU/publications/publications_abstract.pickle\n",
      "pubs_data[publications_author_institutions]\t->\t../../Data/Scholars@TAMU/publications/publications_author_institutions.pickle\n",
      "pubs_data[publications_overview]\t->\t../../Data/Scholars@TAMU/publications/publications_overview.pickle\n",
      "pubs_data[publications_subject_journal_wos]\t->\t../../Data/Scholars@TAMU/publications/publications_subject_journal_wos.pickle\n",
      "pubs_data[publications_unsdg]\t->\t../../Data/Scholars@TAMU/publications/publications_unsdg.pickle\n"
     ]
    }
   ],
   "source": [
    "for (key, df), picklefile in zip(pubs_data.items(), data_filenames['publications']):\n",
    "    filepath = f\"{pubs_path}/{picklefile}.pickle\"\n",
    "    df.to_pickle(filepath)\n",
    "\n",
    "    print(f\"pubs_data[{key}]\\t->\\t{pubs_path}/{picklefile}.pickle\")"
   ]
  }
 ],
 "metadata": {
  "interpreter": {
   "hash": "08d0539260069d16647a15bda43b9d2b76357daee9ecd5899972fb55ddf4875b"
  },
  "kernelspec": {
   "display_name": "Python 3.10.2 ('tamids')",
   "language": "python",
   "name": "python3"
  },
  "language_info": {
   "codemirror_mode": {
    "name": "ipython",
    "version": 3
   },
   "file_extension": ".py",
   "mimetype": "text/x-python",
   "name": "python",
   "nbconvert_exporter": "python",
   "pygments_lexer": "ipython3",
   "version": "3.10.2"
  },
  "orig_nbformat": 4
 },
 "nbformat": 4,
 "nbformat_minor": 2
}
